{
 "cells": [
  {
   "cell_type": "markdown",
   "id": "e4527df3",
   "metadata": {},
   "source": [
    "# Números aleatórios e simulações\n",
    "\n",
    "**Explicação teórica simples**\n",
    "\n",
    "O módulo `np.random` do NumPy é usado para gerar números aleatórios — essenciais em simulações, estatística e testes de modelos.\n",
    "\n",
    "Principais funções:\n",
    "\n",
    "* `np.random.rand(n)` → números decimais entre 0 e 1.\n",
    "\n",
    "* `np.random.randn(n)` → números distribuídos normalmente (média 0, desvio padrão 1).\n",
    "\n",
    "* `np.random.randint(min, max, size)` → inteiros aleatórios.\n",
    "\n",
    "* `np.random.choice(array)` → escolhe elementos aleatórios de um array.\n",
    "\n",
    "* `np.random.seed(valor)` → garante reprodutibilidade (gera sempre o mesmo resultado)."
   ]
  },
  {
   "cell_type": "code",
   "execution_count": null,
   "id": "6b4a7051",
   "metadata": {},
   "outputs": [],
   "source": [
    "import numpy as np\n",
    "\n",
    "np.random.seed(42)  # garante resultados consistentes\n",
    "\n",
    "# 1️⃣ Gerando números aleatórios\n",
    "print(\"Entre 0 e 1:\", np.random.rand(5))\n",
    "print(\"Inteiros de 1 a 10:\", np.random.randint(1, 10, 5))\n",
    "\n",
    "# 2️⃣ Distribuição normal (ex: alturas humanas simuladas)\n",
    "alturas = np.random.randn(10) * 10 + 170  # média 170, desvio 10\n",
    "print(\"Alturas simuladas:\", np.round(alturas, 1))\n",
    "\n",
    "# 3️⃣ Escolhendo amostras aleatórias\n",
    "nomes = np.array([\"Ana\", \"Bruno\", \"Carlos\", \"Daniela\", \"Eduardo\"])\n",
    "amostra = np.random.choice(nomes, 3, replace=False)\n",
    "print(\"Amostra de nomes:\", amostra)"
   ]
  }
 ],
 "metadata": {
  "kernelspec": {
   "display_name": "Python 3",
   "language": "python",
   "name": "python3"
  },
  "language_info": {
   "name": "python",
   "version": "3.13.3"
  }
 },
 "nbformat": 4,
 "nbformat_minor": 5
}
