{
 "cells": [
  {
   "cell_type": "markdown",
   "id": "fb44adf4",
   "metadata": {},
   "source": [
    "# Aula 4 – Estatísticas, funções e tratamento de dados ausentes\n",
    "\n",
    "**🎯 Objetivo da Aula**\n",
    "\n",
    "Aprender a:\n",
    "\n",
    "* gerar estatísticas descritivas rapidamente,\n",
    "\n",
    "* aplicar funções personalizadas com apply, map e lambda,\n",
    "\n",
    "* entender e tratar valores ausentes (NaN).\n",
    "\n",
    "Esses recursos são o coração do pré-processamento de dados, etapa essencial antes de qualquer análise.\n",
    "\n",
    "**🧠 1. Teoria simples**\n",
    "\n",
    "O pandas oferece métodos prontos para resumo estatístico, mas também permite aplicar funções customizadas em colunas e linhas.\n",
    "\n",
    "Além disso, dados do mundo real sempre têm valores ausentes (NaN) — entender como identificá-los e tratá-los é indispensável.\n",
    "\n",
    "**💻 2. Demonstração prática**"
   ]
  },
  {
   "cell_type": "code",
   "execution_count": 1,
   "id": "9dfb9999",
   "metadata": {},
   "outputs": [
    {
     "name": "stdout",
     "output_type": "stream",
     "text": [
      "    Produto   Preço  Vendas\n",
      "0  Notebook  2500.0    20.0\n",
      "1     Mouse    45.9    13.0\n",
      "2   Teclado   120.0    35.0\n",
      "3   Monitor     NaN    50.0\n",
      "4   Headset   199.5     NaN\n"
     ]
    }
   ],
   "source": [
    "import pandas as pd\n",
    "import numpy as np\n",
    "\n",
    "df = pd.DataFrame({\n",
    "    \"Produto\": [\"Notebook\", \"Mouse\", \"Teclado\", \"Monitor\", \"Headset\"],\n",
    "    \"Preço\": [2500, 45.90, 120, np.nan, 199.50],\n",
    "    \"Vendas\": [20, 13, 35, 50, np.nan]\n",
    "})\n",
    "print(df)"
   ]
  },
  {
   "cell_type": "markdown",
   "id": "cd510bb9",
   "metadata": {},
   "source": [
    "**🔹 Estatísticas descritivas**"
   ]
  },
  {
   "cell_type": "code",
   "execution_count": 4,
   "id": "84e98799",
   "metadata": {},
   "outputs": [
    {
     "name": "stdout",
     "output_type": "stream",
     "text": [
      "             Preço     Vendas\n",
      "count     4.000000   4.000000\n",
      "mean    716.350000  29.500000\n",
      "std    1190.752951  16.462078\n",
      "min      45.900000  13.000000\n",
      "25%     101.475000  18.250000\n",
      "50%     159.750000  27.500000\n",
      "75%     774.625000  38.750000\n",
      "max    2500.000000  50.000000\n",
      "716.35\n",
      "118.0\n",
      "Produto\n",
      "Notebook    1\n",
      "Mouse       1\n",
      "Teclado     1\n",
      "Monitor     1\n",
      "Headset     1\n",
      "Name: count, dtype: int64\n"
     ]
    }
   ],
   "source": [
    "print(df.describe())       # resumo numérico\n",
    "print(df[\"Preço\"].mean())  # média de uma coluna\n",
    "print(df[\"Vendas\"].sum())  # soma\n",
    "print(df[\"Produto\"].value_counts())  # contagem de categorias"
   ]
  },
  {
   "cell_type": "markdown",
   "id": "a097c73d",
   "metadata": {},
   "source": [
    "**🔹 Aplicação de funções**\n",
    "\n",
    "Usando `apply()` e `lambda`"
   ]
  },
  {
   "cell_type": "code",
   "execution_count": 5,
   "id": "50338ede",
   "metadata": {},
   "outputs": [
    {
     "name": "stdout",
     "output_type": "stream",
     "text": [
      "    Produto   Preço  Vendas  Preço_Desconto\n",
      "0  Notebook  2500.0    20.0         2250.00\n",
      "1     Mouse    45.9    13.0           41.31\n",
      "2   Teclado   120.0    35.0          108.00\n",
      "3   Monitor     NaN    50.0             NaN\n",
      "4   Headset   199.5     NaN          179.55\n"
     ]
    }
   ],
   "source": [
    "# Preço com desconto de 10%\n",
    "df[\"Preço_Desconto\"] = df[\"Preço\"].apply(lambda x: x * 0.9 if pd.notnull(x) else x)\n",
    "print(df)"
   ]
  },
  {
   "cell_type": "markdown",
   "id": "df79fc5e",
   "metadata": {},
   "source": [
    "Usando `map()` em `Series`"
   ]
  },
  {
   "cell_type": "code",
   "execution_count": 6,
   "id": "7a3a5b52",
   "metadata": {},
   "outputs": [],
   "source": [
    "# Converter para letras maiúsculas\n",
    "df[\"Produto\"] = df[\"Produto\"].map(str.upper)"
   ]
  },
  {
   "cell_type": "markdown",
   "id": "1b5b67f8",
   "metadata": {},
   "source": [
    "**🔹 Tratando valores ausentes**"
   ]
  },
  {
   "cell_type": "code",
   "execution_count": 7,
   "id": "2f83bb49",
   "metadata": {},
   "outputs": [
    {
     "name": "stdout",
     "output_type": "stream",
     "text": [
      "   Produto  Preço  Vendas  Preço_Desconto\n",
      "0    False  False   False           False\n",
      "1    False  False   False           False\n",
      "2    False  False   False           False\n",
      "3    False   True   False            True\n",
      "4    False  False    True           False\n",
      "Produto           0\n",
      "Preço             1\n",
      "Vendas            1\n",
      "Preço_Desconto    1\n",
      "dtype: int64\n"
     ]
    }
   ],
   "source": [
    "print(df.isnull())         # identifica valores nulos\n",
    "print(df.isnull().sum())   # total de nulos por coluna\n",
    "\n",
    "# Remover linhas com NaN\n",
    "df_sem_nulos = df.dropna()\n",
    "\n",
    "# Substituir valores ausentes\n",
    "df_preenchido = df.fillna({\"Preço\": df[\"Preço\"].mean(), \"Vendas\": 0})"
   ]
  },
  {
   "cell_type": "markdown",
   "id": "f62b467e",
   "metadata": {},
   "source": [
    "**💡 Dica:**\n",
    "\n",
    "`dropna()` → remove dados incompletos (bom para datasets grandes e limpos).\n",
    "\n",
    "`fillna()` → preenche lacunas (útil quando a perda de dados é indesejada).\n",
    "\n",
    "\n",
    "**3. Exemplo do mundo real: limpeza de dados de vendas**"
   ]
  },
  {
   "cell_type": "code",
   "execution_count": 8,
   "id": "d67a9b7d",
   "metadata": {},
   "outputs": [
    {
     "name": "stdout",
     "output_type": "stream",
     "text": [
      "Produto       0\n",
      "Preço         2\n",
      "Quantidade    1\n",
      "dtype: int64\n",
      "    Produto       Preço  Quantidade       Receita\n",
      "0  Notebook  349.466667        10.0   3494.666667\n",
      "1     Mouse   49.900000        25.0   1247.500000\n",
      "2   Monitor  799.000000         0.0      0.000000\n",
      "3   Headset  199.500000        40.0   7980.000000\n",
      "4   Teclado  349.466667        30.0  10484.000000\n"
     ]
    },
    {
     "name": "stderr",
     "output_type": "stream",
     "text": [
      "C:\\Users\\onnea\\AppData\\Local\\Temp\\ipykernel_14992\\3260525509.py:11: FutureWarning: A value is trying to be set on a copy of a DataFrame or Series through chained assignment using an inplace method.\n",
      "The behavior will change in pandas 3.0. This inplace method will never work because the intermediate object on which we are setting values always behaves as a copy.\n",
      "\n",
      "For example, when doing 'df[col].method(value, inplace=True)', try using 'df.method({col: value}, inplace=True)' or df[col] = df[col].method(value) instead, to perform the operation inplace on the original object.\n",
      "\n",
      "\n",
      "  vendas[\"Preço\"].fillna(vendas[\"Preço\"].mean(), inplace=True)\n",
      "C:\\Users\\onnea\\AppData\\Local\\Temp\\ipykernel_14992\\3260525509.py:14: FutureWarning: A value is trying to be set on a copy of a DataFrame or Series through chained assignment using an inplace method.\n",
      "The behavior will change in pandas 3.0. This inplace method will never work because the intermediate object on which we are setting values always behaves as a copy.\n",
      "\n",
      "For example, when doing 'df[col].method(value, inplace=True)', try using 'df.method({col: value}, inplace=True)' or df[col] = df[col].method(value) instead, to perform the operation inplace on the original object.\n",
      "\n",
      "\n",
      "  vendas[\"Quantidade\"].fillna(0, inplace=True)\n"
     ]
    }
   ],
   "source": [
    "vendas = pd.DataFrame({\n",
    "    \"Produto\": [\"Notebook\", \"Mouse\", \"Monitor\", \"Headset\", \"Teclado\"],\n",
    "    \"Preço\": [np.nan, 49.90, 799.00, 199.50, np.nan],\n",
    "    \"Quantidade\": [10, 25, np.nan, 40, 30]\n",
    "})\n",
    "\n",
    "# Mostrar dados faltantes\n",
    "print(vendas.isnull().sum())\n",
    "\n",
    "# Substituir preço ausente pela média\n",
    "vendas[\"Preço\"].fillna(vendas[\"Preço\"].mean(), inplace=True)\n",
    "\n",
    "# Substituir quantidades ausentes por 0\n",
    "vendas[\"Quantidade\"].fillna(0, inplace=True)\n",
    "\n",
    "# Calcular receita total\n",
    "vendas[\"Receita\"] = vendas[\"Preço\"] * vendas[\"Quantidade\"]\n",
    "print(vendas)"
   ]
  },
  {
   "cell_type": "markdown",
   "id": "615362e4",
   "metadata": {},
   "source": [
    "# Exercícios\n",
    "\n",
    "**Fácil**\n",
    "\n",
    "Crie um DataFrame com colunas `Produto`, `Preço`, `Estoque`.\n",
    "\n",
    "Mostre as estatísticas com `.describe()`.\n",
    "\n",
    "Mostre a soma e média dos preços.\n",
    "\n",
    "Mostre quantos produtos diferentes existem (`value_counts()`)."
   ]
  },
  {
   "cell_type": "code",
   "execution_count": 16,
   "id": "f9aa479c",
   "metadata": {},
   "outputs": [
    {
     "name": "stdout",
     "output_type": "stream",
     "text": [
      "      Produto   Preço  Estoque\n",
      "0    Notebook  3200.0       15\n",
      "1       Mouse    89.9       42\n",
      "2     Teclado   249.0       28\n",
      "3     Monitor   899.0       12\n",
      "4     Headset   199.5       35\n",
      "5      Tablet  1150.0        8\n",
      "6  Impressora   689.0       10\n",
      "7         SSD   389.9       50\n",
      "8      Webcam   159.0       25\n",
      "9     Cadeira  1299.0        5\n",
      "\n",
      "             Preço    Estoque\n",
      "count    10.000000  10.000000\n",
      "mean    832.430000  23.000000\n",
      "std     936.341119  15.513435\n",
      "min      89.900000   5.000000\n",
      "25%     211.875000  10.500000\n",
      "50%     539.450000  20.000000\n",
      "75%    1087.250000  33.250000\n",
      "max    3200.000000  50.000000\n",
      "\n",
      "Soma dos preços:\n",
      "R$8324.30\n",
      "\n",
      "Media dos preços:\n",
      "R$832.43\n",
      "\n",
      "Quantidade de Produtos:\n",
      "Produto\n",
      "Notebook      1\n",
      "Mouse         1\n",
      "Teclado       1\n",
      "Monitor       1\n",
      "Headset       1\n",
      "Tablet        1\n",
      "Impressora    1\n",
      "SSD           1\n",
      "Webcam        1\n",
      "Cadeira       1\n",
      "Name: count, dtype: int64\n"
     ]
    }
   ],
   "source": [
    "df_produtos = pd.DataFrame({\n",
    "    \"Produto\": [\"Notebook\", \"Mouse\", \"Teclado\", \"Monitor\", \"Headset\", \"Tablet\", \"Impressora\", \"SSD\", \"Webcam\", \"Cadeira\"],\n",
    "    \"Preço\": [3200.00, 89.90, 249.00, 899.00, 199.50, 1150.00, 689.00, 389.90, 159.00, 1299.00],\n",
    "    \"Estoque\": [15, 42, 28, 12, 35, 8, 10, 50, 25, 5]\n",
    "})\n",
    "\n",
    "print(df_produtos)\n",
    "print(f\"\\n{df_produtos.describe()}\")\n",
    "print(f\"\\nSoma dos preços:\\nR${df_produtos[\"Preço\"].sum():.2f}\")\n",
    "print(f\"\\nMedia dos preços:\\nR${df_produtos[\"Preço\"].mean():.2f}\")\n",
    "print(f\"\\nQuantidade de Produtos:\\n{df_produtos[\"Produto\"].value_counts()}\")"
   ]
  },
  {
   "cell_type": "markdown",
   "id": "c7392a61",
   "metadata": {},
   "source": [
    "**Intermediário**\n",
    "\n",
    "Monte um DataFrame com colunas `Produto`, `Custo`, `Venda`, `Lucro`.\n",
    "\n",
    "Use `apply` e `lambda` para calcular a margem de lucro em `%`.\n",
    "\n",
    "Mostre os produtos com lucro acima de 30%."
   ]
  },
  {
   "cell_type": "code",
   "execution_count": null,
   "id": "dbf0f0a9",
   "metadata": {},
   "outputs": [
    {
     "name": "stdout",
     "output_type": "stream",
     "text": [
      "      Produto   Custo   Venda  Lucro  Margem_Lucro\n",
      "0    Notebook  2500.0  3200.0  700.0         21.88\n",
      "1       Mouse    45.0    89.9   44.9         49.94\n",
      "2     Teclado   150.0   249.0   99.0         39.76\n",
      "3     Monitor   650.0   899.0  249.0         27.70\n",
      "4     Headset   120.0   199.5   79.5         39.85\n",
      "5      Tablet   850.0  1150.0  300.0         26.09\n",
      "6  Impressora   450.0   689.0  239.0         34.69\n",
      "7         SSD   250.0   389.9  139.9         35.88\n",
      "8      Webcam    90.0   159.0   69.0         43.40\n",
      "9     Cadeira   800.0  1299.0  499.0         38.41\n",
      "      Produto  Custo   Venda  Lucro  Margem_Lucro\n",
      "1       Mouse   45.0    89.9   44.9         49.94\n",
      "2     Teclado  150.0   249.0   99.0         39.76\n",
      "4     Headset  120.0   199.5   79.5         39.85\n",
      "6  Impressora  450.0   689.0  239.0         34.69\n",
      "7         SSD  250.0   389.9  139.9         35.88\n",
      "8      Webcam   90.0   159.0   69.0         43.40\n",
      "9     Cadeira  800.0  1299.0  499.0         38.41\n"
     ]
    }
   ],
   "source": [
    "df_lucro = pd.DataFrame({\n",
    "    \"Produto\": [\"Notebook\", \"Mouse\", \"Teclado\", \"Monitor\", \"Headset\", \"Tablet\", \"Impressora\", \"SSD\", \"Webcam\", \"Cadeira\"],\n",
    "    \"Custo\": [2500.00, 45.00, 150.00, 650.00, 120.00, 850.00, 450.00, 250.00, 90.00, 800.00],\n",
    "    \"Venda\": [3200.00, 89.90, 249.00, 899.00, 199.50, 1150.00, 689.00, 389.90, 159.00, 1299.00],\n",
    "    \"Lucro\": [700.00, 44.90, 99.00, 249.00, 79.50, 300.00, 239.00, 139.90, 69.00, 499.00]\n",
    "})\n",
    "\n",
    "df_lucro[\"Margem_Lucro\"] = df_lucro.apply(lambda row: (row[\"Lucro\"] / row[\"Venda\"]) * 100, axis=1)\n",
    "\n",
    "print(round(df_lucro, 2))\n",
    "\n",
    "filtro_margem_30_lucro = df_lucro[\"Margem_Lucro\"] > 30\n",
    "\n",
    "print(round(df_lucro[filtro_margem_30_lucro], 2))"
   ]
  },
  {
   "cell_type": "markdown",
   "id": "9b8b0268",
   "metadata": {},
   "source": [
    "**Desafio (aplicação real)**\n",
    "\n",
    "Monte um DataFrame com colunas `Cliente`, `Idade`, `Gasto_Total`.\n",
    "Simule alguns valores ausentes (use `np.nan`).\n",
    "\n",
    "Use `isnull().sum()` para detectar os faltantes.\n",
    "\n",
    "Preencha idades ausentes com a média das idades.\n",
    "\n",
    "Preencha `Gasto_Total` ausente com `0`.\n",
    "\n",
    "Crie uma coluna `Faixa_Etária`:\n",
    "\n",
    "até 25 anos → \"Jovem\"\n",
    "\n",
    "26–40 → \"Adulto\"\n",
    "\n",
    "40 → \"Sênior\"\n",
    "\n",
    "💡 Dica: use `.apply(lambda x: ...)` com condições."
   ]
  },
  {
   "cell_type": "code",
   "execution_count": 27,
   "id": "b4d3cc24",
   "metadata": {},
   "outputs": [
    {
     "name": "stdout",
     "output_type": "stream",
     "text": [
      "          Cliente  Idade  Gasto_Total\n",
      "0       Ana Silva   24.0       1250.0\n",
      "1   Carlos Santos    NaN        890.5\n",
      "2  Maria Oliveira   35.0          NaN\n",
      "3    João Pereira   42.0       2100.0\n",
      "4   Fernanda Lima   29.0        745.8\n",
      "5   Ricardo Alves    NaN       1320.0\n",
      "6   Juliana Costa   31.0          NaN\n",
      "7     Pedro Souza   38.0       1680.9\n",
      "8    Camila Rocha   23.0        920.0\n",
      "9   Lucas Martins   45.0          NaN\n",
      "          Cliente  Idade  Gasto_Total Faixa_Etária\n",
      "0       Ana Silva   24.0       1250.0        Jovem\n",
      "1   Carlos Santos    NaN        890.5          NaN\n",
      "2  Maria Oliveira   35.0          NaN       Adulto\n",
      "3    João Pereira   42.0       2100.0       Sênior\n",
      "4   Fernanda Lima   29.0        745.8       Adulto\n",
      "5   Ricardo Alves    NaN       1320.0          NaN\n",
      "6   Juliana Costa   31.0          NaN       Adulto\n",
      "7     Pedro Souza   38.0       1680.9       Adulto\n",
      "8    Camila Rocha   23.0        920.0        Jovem\n",
      "9   Lucas Martins   45.0          NaN       Sênior\n"
     ]
    }
   ],
   "source": [
    "df_clientes = pd.DataFrame({\n",
    "    \"Cliente\": [\"Ana Silva\", \"Carlos Santos\", \"Maria Oliveira\", \"João Pereira\", \"Fernanda Lima\", \n",
    "                \"Ricardo Alves\", \"Juliana Costa\", \"Pedro Souza\", \"Camila Rocha\", \"Lucas Martins\"],\n",
    "    \"Idade\": [24, np.nan, 35, 42, 29, np.nan, 31, 38, 23, 45],\n",
    "    \"Gasto_Total\": [1250.00, 890.50, np.nan, 2100.00, 745.80, 1320.00, np.nan, 1680.90, 920.00, np.nan]\n",
    "})\n",
    "\n",
    "print(df_clientes)\n",
    "\n",
    "df_clientes[\"Faixa_Etária\"] = df_clientes[\"Idade\"].apply(\n",
    "    lambda idade: \"Jovem\" if idade <= 25 else\n",
    "                 \"Adulto\" if idade <= 40 else\n",
    "                 \"Sênior\" if pd.notnull(idade) else\n",
    "                 np.nan\n",
    ")\n",
    "\n",
    "print(df_clientes)"
   ]
  }
 ],
 "metadata": {
  "kernelspec": {
   "display_name": "Python 3",
   "language": "python",
   "name": "python3"
  },
  "language_info": {
   "codemirror_mode": {
    "name": "ipython",
    "version": 3
   },
   "file_extension": ".py",
   "mimetype": "text/x-python",
   "name": "python",
   "nbconvert_exporter": "python",
   "pygments_lexer": "ipython3",
   "version": "3.13.3"
  }
 },
 "nbformat": 4,
 "nbformat_minor": 5
}
