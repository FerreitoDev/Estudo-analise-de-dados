{
 "cells": [
  {
   "cell_type": "markdown",
   "id": "9cceda61",
   "metadata": {},
   "source": [
    "# Aula 3 – Seleção, filtragem e manipulação de dados\n",
    "\n",
    "**🎯 Objetivo da Aula**\n",
    "\n",
    "Aprender a selecionar, filtrar e modificar dados em um DataFrame, dominando as ferramentas que permitem trabalhar com subconjuntos de dados — base de qualquer análise.\n",
    "\n",
    "**1. Teoria simples**\n",
    "\n",
    "No pandas, é essencial saber como acessar partes específicas de um DataFrame.\n",
    "Existem três principais formas:\n",
    "\n",
    "| Método    | Quando usar                                   | Exemplo                 |\n",
    "| --------- | --------------------------------------------- | ----------------------- |\n",
    "| `[]`      | seleção simples de colunas                    | `df[\"coluna\"]`          |\n",
    "| `.loc[]`  | seleção por **rótulo** (nome de linha/coluna) | `df.loc[\"A1\", \"Preço\"]` |\n",
    "| `.iloc[]` | seleção por **posição numérica**              | `df.iloc[0, 1]`         |\n",
    "\n",
    "\n",
    "Esses métodos são usados para:\n",
    "\n",
    "* selecionar colunas ou linhas específicas,\n",
    "\n",
    "* aplicar filtros condicionais,\n",
    "\n",
    "* reordenar ou excluir dados,\n",
    "\n",
    "* criar novas colunas derivadas.\n",
    "\n",
    "**2. Demonstração prática**"
   ]
  },
  {
   "cell_type": "code",
   "execution_count": 1,
   "id": "9bc1332e",
   "metadata": {},
   "outputs": [],
   "source": [
    "import pandas as pd\n",
    "\n",
    "df = pd.DataFrame({\n",
    "    \"Produto\": [\"Notebook\", \"Mouse\", \"Teclado\", \"Monitor\", \"Headset\"],\n",
    "    \"Preço\": [2500, 45.90, 120, 899.99, 199.50],\n",
    "    \"Quantidade\": [20, 13, 35, 50, 45],\n",
    "    \"Categoria\": [\"Eletrônicos\", \"Acessórios\", \"Acessórios\", \"Eletrônicos\", \"Acessórios\"]\n",
    "})\n"
   ]
  },
  {
   "cell_type": "markdown",
   "id": "f03ebdda",
   "metadata": {},
   "source": [
    "**🔹 Selecionando colunas**"
   ]
  },
  {
   "cell_type": "code",
   "execution_count": 2,
   "id": "367b7721",
   "metadata": {},
   "outputs": [
    {
     "data": {
      "text/html": [
       "<div>\n",
       "<style scoped>\n",
       "    .dataframe tbody tr th:only-of-type {\n",
       "        vertical-align: middle;\n",
       "    }\n",
       "\n",
       "    .dataframe tbody tr th {\n",
       "        vertical-align: top;\n",
       "    }\n",
       "\n",
       "    .dataframe thead th {\n",
       "        text-align: right;\n",
       "    }\n",
       "</style>\n",
       "<table border=\"1\" class=\"dataframe\">\n",
       "  <thead>\n",
       "    <tr style=\"text-align: right;\">\n",
       "      <th></th>\n",
       "      <th>Produto</th>\n",
       "      <th>Preço</th>\n",
       "    </tr>\n",
       "  </thead>\n",
       "  <tbody>\n",
       "    <tr>\n",
       "      <th>0</th>\n",
       "      <td>Notebook</td>\n",
       "      <td>2500.00</td>\n",
       "    </tr>\n",
       "    <tr>\n",
       "      <th>1</th>\n",
       "      <td>Mouse</td>\n",
       "      <td>45.90</td>\n",
       "    </tr>\n",
       "    <tr>\n",
       "      <th>2</th>\n",
       "      <td>Teclado</td>\n",
       "      <td>120.00</td>\n",
       "    </tr>\n",
       "    <tr>\n",
       "      <th>3</th>\n",
       "      <td>Monitor</td>\n",
       "      <td>899.99</td>\n",
       "    </tr>\n",
       "    <tr>\n",
       "      <th>4</th>\n",
       "      <td>Headset</td>\n",
       "      <td>199.50</td>\n",
       "    </tr>\n",
       "  </tbody>\n",
       "</table>\n",
       "</div>"
      ],
      "text/plain": [
       "    Produto    Preço\n",
       "0  Notebook  2500.00\n",
       "1     Mouse    45.90\n",
       "2   Teclado   120.00\n",
       "3   Monitor   899.99\n",
       "4   Headset   199.50"
      ]
     },
     "execution_count": 2,
     "metadata": {},
     "output_type": "execute_result"
    }
   ],
   "source": [
    "df[\"Produto\"]\n",
    "df[[\"Produto\", \"Preço\"]]"
   ]
  },
  {
   "cell_type": "markdown",
   "id": "fc800753",
   "metadata": {},
   "source": [
    "**🔹 Selecionando linhas**"
   ]
  },
  {
   "cell_type": "code",
   "execution_count": 3,
   "id": "9e803687",
   "metadata": {},
   "outputs": [
    {
     "data": {
      "text/plain": [
       "Produto            Mouse\n",
       "Preço               45.9\n",
       "Quantidade            13\n",
       "Categoria     Acessórios\n",
       "Name: 1, dtype: object"
      ]
     },
     "execution_count": 3,
     "metadata": {},
     "output_type": "execute_result"
    }
   ],
   "source": [
    "df.loc[0]           # Linha com índice 0\n",
    "df.iloc[1]          # Linha posição 1"
   ]
  },
  {
   "cell_type": "markdown",
   "id": "5df11e01",
   "metadata": {},
   "source": [
    "**🔹 Seleção de intervalo**"
   ]
  },
  {
   "cell_type": "code",
   "execution_count": 4,
   "id": "dc8d7643",
   "metadata": {},
   "outputs": [
    {
     "data": {
      "text/html": [
       "<div>\n",
       "<style scoped>\n",
       "    .dataframe tbody tr th:only-of-type {\n",
       "        vertical-align: middle;\n",
       "    }\n",
       "\n",
       "    .dataframe tbody tr th {\n",
       "        vertical-align: top;\n",
       "    }\n",
       "\n",
       "    .dataframe thead th {\n",
       "        text-align: right;\n",
       "    }\n",
       "</style>\n",
       "<table border=\"1\" class=\"dataframe\">\n",
       "  <thead>\n",
       "    <tr style=\"text-align: right;\">\n",
       "      <th></th>\n",
       "      <th>Produto</th>\n",
       "      <th>Preço</th>\n",
       "    </tr>\n",
       "  </thead>\n",
       "  <tbody>\n",
       "    <tr>\n",
       "      <th>1</th>\n",
       "      <td>Mouse</td>\n",
       "      <td>45.90</td>\n",
       "    </tr>\n",
       "    <tr>\n",
       "      <th>2</th>\n",
       "      <td>Teclado</td>\n",
       "      <td>120.00</td>\n",
       "    </tr>\n",
       "    <tr>\n",
       "      <th>3</th>\n",
       "      <td>Monitor</td>\n",
       "      <td>899.99</td>\n",
       "    </tr>\n",
       "  </tbody>\n",
       "</table>\n",
       "</div>"
      ],
      "text/plain": [
       "   Produto   Preço\n",
       "1    Mouse   45.90\n",
       "2  Teclado  120.00\n",
       "3  Monitor  899.99"
      ]
     },
     "execution_count": 4,
     "metadata": {},
     "output_type": "execute_result"
    }
   ],
   "source": [
    "df.loc[1:3, [\"Produto\", \"Preço\"]]  # Linhas 1 a 3, colunas específicas"
   ]
  },
  {
   "cell_type": "markdown",
   "id": "19e79e8f",
   "metadata": {},
   "source": [
    "**🔹 Filtragem condicional**"
   ]
  },
  {
   "cell_type": "code",
   "execution_count": 5,
   "id": "398cd52a",
   "metadata": {},
   "outputs": [
    {
     "name": "stdout",
     "output_type": "stream",
     "text": [
      "    Produto    Preço  Quantidade    Categoria\n",
      "0  Notebook  2500.00          20  Eletrônicos\n",
      "3   Monitor   899.99          50  Eletrônicos\n",
      "   Produto  Preço  Quantidade   Categoria\n",
      "2  Teclado  120.0          35  Acessórios\n",
      "4  Headset  199.5          45  Acessórios\n"
     ]
    }
   ],
   "source": [
    "# Produtos com preço acima de 500\n",
    "filtro_preco = df[\"Preço\"] > 500\n",
    "print(df[filtro_preco])\n",
    "\n",
    "# Acessórios com mais de 20 unidades\n",
    "filtro_cat = (df[\"Categoria\"] == \"Acessórios\") & (df[\"Quantidade\"] > 20)\n",
    "print(df[filtro_cat])"
   ]
  },
  {
   "cell_type": "markdown",
   "id": "e02f1cc9",
   "metadata": {},
   "source": [
    "**🔹 Ordenação e exclusão**"
   ]
  },
  {
   "cell_type": "code",
   "execution_count": 6,
   "id": "e1a5a475",
   "metadata": {},
   "outputs": [],
   "source": [
    "# Ordenar por preço decrescente\n",
    "df.sort_values(by=\"Preço\", ascending=False)\n",
    "\n",
    "# Remover coluna\n",
    "df_sem_preco = df.drop(columns=\"Preço\")\n",
    "\n",
    "# Remover linha\n",
    "df_sem_linha0 = df.drop(index=0)"
   ]
  },
  {
   "cell_type": "markdown",
   "id": "95ce4a4f",
   "metadata": {},
   "source": [
    "**3. Exemplo do mundo real: análise de produtos**\n",
    "\n",
    "Imagine que você quer identificar:\n",
    "\n",
    "1. Os produtos mais caros,\n",
    "\n",
    "2. Quais acessórios têm estoque alto,\n",
    "\n",
    "3. E criar uma nova coluna com o valor total de estoque."
   ]
  },
  {
   "cell_type": "code",
   "execution_count": 7,
   "id": "b6f4cb07",
   "metadata": {},
   "outputs": [
    {
     "name": "stdout",
     "output_type": "stream",
     "text": [
      "Produtos mais caros:\n",
      "     Produto    Preço\n",
      "0  Notebook  2500.00\n",
      "3   Monitor   899.99\n",
      "4   Headset   199.50\n",
      "2   Teclado   120.00\n",
      "1     Mouse    45.90\n",
      "\n",
      "Produtos com estoque alto:\n",
      "    Produto  Quantidade\n",
      "2  Teclado          35\n",
      "3  Monitor          50\n",
      "4  Headset          45\n"
     ]
    }
   ],
   "source": [
    "df[\"Valor_Total\"] = df[\"Preço\"] * df[\"Quantidade\"]\n",
    "top_preco = df.sort_values(by=\"Preço\", ascending=False)\n",
    "estoque_alto = df[df[\"Quantidade\"] > 30]\n",
    "\n",
    "print(\"Produtos mais caros:\\n\", top_preco[[\"Produto\", \"Preço\"]])\n",
    "print(\"\\nProdutos com estoque alto:\\n\", estoque_alto[[\"Produto\", \"Quantidade\"]])"
   ]
  },
  {
   "cell_type": "markdown",
   "id": "5578790d",
   "metadata": {},
   "source": [
    "# Exercícios\n",
    "\n",
    "**Fácil**\n",
    "\n",
    "Usando o DataFrame `df` acima:\n",
    "\n",
    "Mostre apenas a coluna `Produto`.\n",
    "\n",
    "Mostre as 3 primeiras linhas com `.loc[]`.\n",
    "\n",
    "Selecione apenas as colunas `Produto` e `Preço`."
   ]
  },
  {
   "cell_type": "code",
   "execution_count": 18,
   "id": "389b38a5",
   "metadata": {},
   "outputs": [
    {
     "name": "stdout",
     "output_type": "stream",
     "text": [
      "    Produto    Preço  Quantidade    Categoria  Valor_Total\n",
      "0  Notebook  2500.00          20  Eletrônicos      50000.0\n",
      "1     Mouse    45.90          13   Acessórios        596.7\n",
      "2   Teclado   120.00          35   Acessórios       4200.0\n",
      "3   Monitor   899.99          50  Eletrônicos      44999.5\n",
      "4   Headset   199.50          45   Acessórios       8977.5\n",
      "\n",
      "Produtos:\n",
      " 0    Notebook\n",
      "1       Mouse\n",
      "2     Teclado\n",
      "3     Monitor\n",
      "4     Headset\n",
      "Name: Produto, dtype: object\n",
      "\n",
      "Três Primeira linhas:\n",
      "     Produto   Preço  Quantidade    Categoria  Valor_Total\n",
      "0  Notebook  2500.0          20  Eletrônicos      50000.0\n",
      "1     Mouse    45.9          13   Acessórios        596.7\n",
      "2   Teclado   120.0          35   Acessórios       4200.0\n",
      "\n",
      "Produto e Preço:\n",
      "     Produto    Preço\n",
      "0  Notebook  2500.00\n",
      "1     Mouse    45.90\n",
      "2   Teclado   120.00\n",
      "3   Monitor   899.99\n",
      "4   Headset   199.50\n"
     ]
    }
   ],
   "source": [
    "print(df)\n",
    "print(\"\\nProdutos:\\n\", df[\"Produto\"])\n",
    "print(\"\\nTrês Primeira linhas:\\n\", df.loc[0:2])\n",
    "print(\"\\nProduto e Preço:\\n\", df[[\"Produto\", \"Preço\"]])"
   ]
  },
  {
   "cell_type": "markdown",
   "id": "97e95115",
   "metadata": {},
   "source": [
    "**Intermediário**\n",
    "\n",
    "1. Crie um filtro para mostrar apenas produtos com preço acima de R$500.\n",
    "\n",
    "2. Crie outro filtro para mostrar apenas produtos da categoria “Acessórios”.\n",
    "\n",
    "3. Combine os dois filtros para ver acessórios caros."
   ]
  },
  {
   "cell_type": "code",
   "execution_count": null,
   "id": "f4742304",
   "metadata": {},
   "outputs": [
    {
     "name": "stdout",
     "output_type": "stream",
     "text": [
      "    Produto    Preço  Quantidade    Categoria  Valor_Total\n",
      "0  Notebook  2500.00          20  Eletrônicos      50000.0\n",
      "3   Monitor   899.99          50  Eletrônicos      44999.5\n",
      "   Produto  Preço  Quantidade   Categoria  Valor_Total\n",
      "1    Mouse   45.9          13  Acessórios        596.7\n",
      "2  Teclado  120.0          35  Acessórios       4200.0\n",
      "4  Headset  199.5          45  Acessórios       8977.5\n",
      "Empty DataFrame\n",
      "Columns: [Produto, Preço, Quantidade, Categoria, Valor_Total]\n",
      "Index: []\n"
     ]
    }
   ],
   "source": [
    "filtro_acima_500 = df[\"Preço\"] > 500\n",
    "print(df[filtro_acima_500])\n",
    "\n",
    "filtro_acessorios = df[\"Categoria\"] == \"Acessórios\"\n",
    "print(df[filtro_acessorios])\n",
    "\n",
    "filtro_combinado = filtro_acessorios & filtro_acima_500\n",
    "print(df[filtro_combinado])"
   ]
  },
  {
   "cell_type": "markdown",
   "id": "c6674887",
   "metadata": {},
   "source": [
    "**Desafio (análise real)**\n",
    "\n",
    "Monte um DataFrame chamado estoque_loja com colunas:\n",
    "Produto, Categoria, Preço, Estoque, Data_Entrada.\n",
    "\n",
    "1. Mostre apenas produtos da categoria “Eletrônicos” com estoque acima de 30.\n",
    "\n",
    "2. Ordene por preço em ordem decrescente.\n",
    "\n",
    "3. Crie uma nova coluna Valor_Estoque = Preço * Estoque.\n",
    "\n",
    "4. Mostre o produto com maior valor total em estoque.\n",
    "\n",
    "💡 Dica: Use .sort_values() e .iloc[0] para pegar o primeiro após ordenar."
   ]
  },
  {
   "cell_type": "code",
   "execution_count": 43,
   "id": "43c1d084",
   "metadata": {},
   "outputs": [
    {
     "name": "stdout",
     "output_type": "stream",
     "text": [
      "               Produto    Categoria   Preço  Estoque Data_Entrada\n",
      "0        Notebook Dell  Eletrônicos  3200.0       15   15/01/2025\n",
      "1          Mouse Gamer  Periféricos    89.9       42   22/01/2025\n",
      "2     Teclado Mecânico  Periféricos   249.0       28   05/02/2025\n",
      "3           Monitor 24  Eletrônicos   899.0       36   18/02/2025\n",
      "4  Headphone Bluetooth        Áudio   199.5       35   01/03/2025\n",
      "5       Tablet Samsung  Eletrônicos  1150.0       32   10/03/2025\n",
      "6        Cadeira Gamer       Móveis  1299.0        5   25/02/2025\n",
      "7              SSD 1TB     Hardware   389.9       50   12/01/2025\n",
      "8         Webcam 1080p  Periféricos   159.0       25   08/03/2025\n",
      "9     Impressora Laser  Eletrônicos   689.0       10   20/02/2025\n",
      "\n",
      "Eletrônicos:\n",
      "           Produto    Categoria   Preço  Estoque Data_Entrada\n",
      "3      Monitor 24  Eletrônicos   899.0       36   18/02/2025\n",
      "5  Tablet Samsung  Eletrônicos  1150.0       32   10/03/2025\n",
      "\n",
      "               Produto    Categoria   Preço  Estoque Data_Entrada\n",
      "0        Notebook Dell  Eletrônicos  3200.0       15   15/01/2025\n",
      "6        Cadeira Gamer       Móveis  1299.0        5   25/02/2025\n",
      "5       Tablet Samsung  Eletrônicos  1150.0       32   10/03/2025\n",
      "3           Monitor 24  Eletrônicos   899.0       36   18/02/2025\n",
      "9     Impressora Laser  Eletrônicos   689.0       10   20/02/2025\n",
      "7              SSD 1TB     Hardware   389.9       50   12/01/2025\n",
      "2     Teclado Mecânico  Periféricos   249.0       28   05/02/2025\n",
      "4  Headphone Bluetooth        Áudio   199.5       35   01/03/2025\n",
      "8         Webcam 1080p  Periféricos   159.0       25   08/03/2025\n",
      "1          Mouse Gamer  Periféricos    89.9       42   22/01/2025\n",
      "\n",
      "               Produto    Categoria   Preço  Estoque Data_Entrada  \\\n",
      "0        Notebook Dell  Eletrônicos  3200.0       15   15/01/2025   \n",
      "1          Mouse Gamer  Periféricos    89.9       42   22/01/2025   \n",
      "2     Teclado Mecânico  Periféricos   249.0       28   05/02/2025   \n",
      "3           Monitor 24  Eletrônicos   899.0       36   18/02/2025   \n",
      "4  Headphone Bluetooth        Áudio   199.5       35   01/03/2025   \n",
      "5       Tablet Samsung  Eletrônicos  1150.0       32   10/03/2025   \n",
      "6        Cadeira Gamer       Móveis  1299.0        5   25/02/2025   \n",
      "7              SSD 1TB     Hardware   389.9       50   12/01/2025   \n",
      "8         Webcam 1080p  Periféricos   159.0       25   08/03/2025   \n",
      "9     Impressora Laser  Eletrônicos   689.0       10   20/02/2025   \n",
      "\n",
      "   Valor_Estoque  \n",
      "0        48000.0  \n",
      "1         3775.8  \n",
      "2         6972.0  \n",
      "3        32364.0  \n",
      "4         6982.5  \n",
      "5        36800.0  \n",
      "6         6495.0  \n",
      "7        19495.0  \n",
      "8         3975.0  \n",
      "9         6890.0  \n",
      "\n",
      "Produto com maior valor de estoque:\n",
      "Produto          Notebook Dell\n",
      "Categoria          Eletrônicos\n",
      "Preço                   3200.0\n",
      "Estoque                     15\n",
      "Data_Entrada        15/01/2025\n",
      "Valor_Estoque          48000.0\n",
      "Name: 0, dtype: object\n"
     ]
    }
   ],
   "source": [
    "estoque_loja = pd.DataFrame({\n",
    "    \"Produto\" : [\"Notebook Dell\", \"Mouse Gamer\", \"Teclado Mecânico\", \"Monitor 24\", \"Headphone Bluetooth\", \"Tablet Samsung\", \"Cadeira Gamer\", \"SSD 1TB\", \"Webcam 1080p\", \"Impressora Laser\"],\n",
    "    \"Categoria\" : [\"Eletrônicos\", \"Periféricos\", \"Periféricos\", \"Eletrônicos\", \"Áudio\", \"Eletrônicos\", \"Móveis\", \"Hardware\", \"Periféricos\", \"Eletrônicos\"],\n",
    "    \"Preço\" : [3200.00, 89.90, 249.00, 899.00, 199.50, 1150.00, 1299.00, 389.90, 159.00, 689.00],\n",
    "    \"Estoque\" : [15, 42, 28, 36, 35, 32, 5, 50, 25, 10],\n",
    "    \"Data_Entrada\" : [\"15/01/2025\", \"22/01/2025\", \"05/02/2025\", \"18/02/2025\", \"01/03/2025\", \"10/03/2025\", \"25/02/2025\", \"12/01/2025\", \"08/03/2025\", \"20/02/2025\"]\n",
    "})\n",
    "\n",
    "print(estoque_loja)\n",
    "filtro_eletronicos_estoque_30 = (estoque_loja[\"Categoria\"] == \"Eletrônicos\") & (estoque_loja[\"Estoque\"] > 30)\n",
    "print(\"\\nEletrônicos:\\n\", estoque_loja[filtro_eletronicos_estoque_30])\n",
    "\n",
    "preco_descrecente = estoque_loja.sort_values(by=\"Preço\", ascending=False)\n",
    "print(f\"\\n{preco_descrecente}\")\n",
    "\n",
    "estoque_loja[\"Valor_Estoque\"] = estoque_loja[\"Preço\"] * estoque_loja[\"Estoque\"]\n",
    "print(f\"\\n{estoque_loja}\")\n",
    "\n",
    "produto_maior_valor = estoque_loja.sort_values(by=\"Valor_Estoque\", ascending=False).iloc[0]\n",
    "print(f\"\\nProduto com maior valor de estoque:\\n{produto_maior_valor}\" )\n"
   ]
  }
 ],
 "metadata": {
  "kernelspec": {
   "display_name": "Python 3",
   "language": "python",
   "name": "python3"
  },
  "language_info": {
   "codemirror_mode": {
    "name": "ipython",
    "version": 3
   },
   "file_extension": ".py",
   "mimetype": "text/x-python",
   "name": "python",
   "nbconvert_exporter": "python",
   "pygments_lexer": "ipython3",
   "version": "3.13.3"
  }
 },
 "nbformat": 4,
 "nbformat_minor": 5
}
