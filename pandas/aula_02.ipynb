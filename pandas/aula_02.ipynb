{
 "cells": [
  {
   "cell_type": "markdown",
   "id": "7eba92b2",
   "metadata": {},
   "source": [
    "# Aula 2 – DataFrames: criação, estrutura e exploração de dados\n",
    "**🎯 Objetivo da Aula**\n",
    "\n",
    "Aprender o que é um DataFrame, como criá-lo a partir de diferentes fontes (listas, dicionários, arrays) e como explorar suas informações com os métodos `.head()`, `.info()` e `.describe()`.\n",
    "\n",
    "**🧠 1. Teoria simples**\n",
    "\n",
    "Um DataFrame é uma tabela bidimensional — pense nele como uma planilha do Excel dentro do Python:\n",
    "\n",
    "* Cada coluna é uma `Series`.\n",
    "\n",
    "* Cada linha tem um índice (gerado automaticamente ou definido por você).\n",
    "\n",
    "* Ele permite analisar, filtrar, agrupar e limpar dados de forma rápida.\n",
    "\n",
    "Essa é a estrutura mais usada no pandas e o formato principal de datasets reais (vendas, clientes, alunos, etc.).\n",
    "\n",
    "**2. Demonstração prática**\n",
    "\n",
    "Comece com:"
   ]
  },
  {
   "cell_type": "code",
   "execution_count": 1,
   "id": "f88fa0c9",
   "metadata": {},
   "outputs": [],
   "source": [
    "import pandas as pd"
   ]
  },
  {
   "cell_type": "code",
   "execution_count": 2,
   "id": "0e223d76",
   "metadata": {},
   "outputs": [
    {
     "name": "stdout",
     "output_type": "stream",
     "text": [
      "    Produto  Preço  Quantidade\n",
      "0     Arroz   5.49          50\n",
      "1    Feijão   7.89         100\n",
      "2  Macarrão   4.29          80\n",
      "3     Leite   6.75          40\n"
     ]
    }
   ],
   "source": [
    "dados = {\n",
    "    \"Produto\": [\"Arroz\", \"Feijão\", \"Macarrão\", \"Leite\"],\n",
    "    \"Preço\": [5.49, 7.89, 4.29, 6.75],\n",
    "    \"Quantidade\": [50, 100, 80, 40]\n",
    "}\n",
    "\n",
    "df = pd.DataFrame(dados)\n",
    "print(df)"
   ]
  },
  {
   "cell_type": "markdown",
   "id": "ab11752c",
   "metadata": {},
   "source": [
    "**🔸 Criando DataFrame com índice personalizado**"
   ]
  },
  {
   "cell_type": "code",
   "execution_count": 3,
   "id": "e7604db7",
   "metadata": {},
   "outputs": [
    {
     "name": "stdout",
     "output_type": "stream",
     "text": [
      "     Produto  Preço  Quantidade\n",
      "A1     Arroz   5.49          50\n",
      "B1    Feijão   7.89         100\n",
      "C1  Macarrão   4.29          80\n",
      "D1     Leite   6.75          40\n"
     ]
    }
   ],
   "source": [
    "df = pd.DataFrame(dados, index=[\"A1\", \"B1\", \"C1\", \"D1\"])\n",
    "print(df)"
   ]
  },
  {
   "cell_type": "markdown",
   "id": "9fa69113",
   "metadata": {},
   "source": [
    "Agora cada linha tem um rótulo que pode ser usado em consultas.\n",
    "\n",
    "**🔸 Criando DataFrame a partir de uma lista de listas**"
   ]
  },
  {
   "cell_type": "code",
   "execution_count": 4,
   "id": "e9c7c85c",
   "metadata": {},
   "outputs": [
    {
     "name": "stdout",
     "output_type": "stream",
     "text": [
      "         Data Produto  Preço  Quantidade\n",
      "0  2025-01-01   Arroz   5.49          20\n",
      "1  2025-01-02  Feijão   7.89          35\n",
      "2  2025-01-03   Leite   6.75          15\n"
     ]
    }
   ],
   "source": [
    "vendas = [\n",
    "    [\"2025-01-01\", \"Arroz\", 5.49, 20],\n",
    "    [\"2025-01-02\", \"Feijão\", 7.89, 35],\n",
    "    [\"2025-01-03\", \"Leite\", 6.75, 15]\n",
    "]\n",
    "\n",
    "df2 = pd.DataFrame(vendas, columns=[\"Data\", \"Produto\", \"Preço\", \"Quantidade\"])\n",
    "print(df2)\n"
   ]
  },
  {
   "cell_type": "markdown",
   "id": "b926d894",
   "metadata": {},
   "source": [
    "**🔸 Explorando o DataFrame**"
   ]
  },
  {
   "cell_type": "code",
   "execution_count": 5,
   "id": "ee16a05e",
   "metadata": {},
   "outputs": [
    {
     "name": "stdout",
     "output_type": "stream",
     "text": [
      "         Data Produto  Preço  Quantidade\n",
      "0  2025-01-01   Arroz   5.49          20\n",
      "1  2025-01-02  Feijão   7.89          35\n",
      "2  2025-01-03   Leite   6.75          15\n",
      "<class 'pandas.core.frame.DataFrame'>\n",
      "RangeIndex: 3 entries, 0 to 2\n",
      "Data columns (total 4 columns):\n",
      " #   Column      Non-Null Count  Dtype  \n",
      "---  ------      --------------  -----  \n",
      " 0   Data        3 non-null      object \n",
      " 1   Produto     3 non-null      object \n",
      " 2   Preço       3 non-null      float64\n",
      " 3   Quantidade  3 non-null      int64  \n",
      "dtypes: float64(1), int64(1), object(2)\n",
      "memory usage: 228.0+ bytes\n",
      "None\n",
      "        Preço  Quantidade\n",
      "count  3.0000    3.000000\n",
      "mean   6.7100   23.333333\n",
      "std    1.2005   10.408330\n",
      "min    5.4900   15.000000\n",
      "25%    6.1200   17.500000\n",
      "50%    6.7500   20.000000\n",
      "75%    7.3200   27.500000\n",
      "max    7.8900   35.000000\n"
     ]
    }
   ],
   "source": [
    "print(df2.head())       # mostra as 5 primeiras linhas\n",
    "print(df2.info())       # mostra colunas, tipos e dados ausentes\n",
    "print(df2.describe())   # estatísticas das colunas numéricas"
   ]
  },
  {
   "cell_type": "markdown",
   "id": "925f4088",
   "metadata": {},
   "source": [
    "💡 `.info()` é especialmente útil para detectar valores nulos e tipos errados (por exemplo, números importados como texto).\n",
    "\n",
    "💡 `.describe()` calcula média, desvio padrão, mínimo, máximo e quartis.\n",
    "\n",
    "**3. Exemplo do mundo real: controle de estoque**\n",
    "\n",
    "Imagine que você é analista de dados de um supermercado e quer monitorar o valor total de cada produto em estoque:"
   ]
  },
  {
   "cell_type": "code",
   "execution_count": null,
   "id": "b6f1c584",
   "metadata": {},
   "outputs": [
    {
     "name": "stdout",
     "output_type": "stream",
     "text": [
      "    Produto  Preço  Quantidade  Valor_Total\n",
      "0     Arroz   5.49          50        274.5\n",
      "1    Feijão   7.89         100        789.0\n",
      "2  Macarrão   4.29          80        343.2\n",
      "3     Leite   6.75          40        270.0\n",
      "\n",
      "Valor total do estoque: R$ 1676.7\n"
     ]
    }
   ],
   "source": [
    "import pandas as pd\n",
    "\n",
    "estoque = pd.DataFrame({\n",
    "    \"Produto\": [\"Arroz\", \"Feijão\", \"Macarrão\", \"Leite\"],\n",
    "    \"Preço\": [5.49, 7.89, 4.29, 6.75],\n",
    "    \"Quantidade\": [50, 100, 80, 40]\n",
    "})\n",
    "\n",
    "estoque[\"Valor_Total\"] = estoque[\"Preço\"] * estoque[\"Quantidade\"]\n",
    "print(estoque)\n",
    "print(\"\\nValor total do estoque: R$\", round(estoque[\"Valor_Total\"].sum(), 2))"
   ]
  },
  {
   "cell_type": "markdown",
   "id": "bd539337",
   "metadata": {},
   "source": [
    "**Explicação:**\n",
    "\n",
    "* Criamos uma nova coluna (`Valor_Total`).\n",
    "\n",
    "* Multiplicamos duas colunas.\n",
    "\n",
    "* Somamos todos os valores para saber o total em reais.\n",
    "\n",
    "# Exercícios\n",
    "\n",
    "**Fácil**\n",
    "\n",
    "Crie um DataFrame chamado `alunos` com as colunas:\n",
    "`Nome`, `Idade`, `Nota`, `Turma`.\n",
    "\n",
    "Mostre:\n",
    "\n",
    "As 3 primeiras linhas (.head(3))\n",
    "\n",
    "O tipo de dados de cada coluna (.info())\n",
    "\n",
    "A média das notas (.describe() ou .mean())\n"
   ]
  },
  {
   "cell_type": "code",
   "execution_count": 13,
   "id": "90ef8a20",
   "metadata": {},
   "outputs": [
    {
     "name": "stdout",
     "output_type": "stream",
     "text": [
      "      Nome  Idade  Nota Turma\n",
      "0      Ana     15   8.2     A\n",
      "1    Bruno     16   6.5     B\n",
      "2    Carla     14   9.1     A\n",
      "3   Daniel     17   7.8     C\n",
      "4  Eduardo     15   5.9     B\n",
      "\n",
      "Head 3:\n",
      "    Nome  Idade  Nota Turma\n",
      "0    Ana     15   8.2     A\n",
      "1  Bruno     16   6.5     B\n",
      "2  Carla     14   9.1     A\n",
      "\n",
      "Info:\n",
      "<class 'pandas.core.frame.DataFrame'>\n",
      "RangeIndex: 5 entries, 0 to 4\n",
      "Data columns (total 4 columns):\n",
      " #   Column  Non-Null Count  Dtype  \n",
      "---  ------  --------------  -----  \n",
      " 0   Nome    5 non-null      object \n",
      " 1   Idade   5 non-null      int64  \n",
      " 2   Nota    5 non-null      float64\n",
      " 3   Turma   5 non-null      object \n",
      "dtypes: float64(1), int64(1), object(2)\n",
      "memory usage: 292.0+ bytes\n",
      "None\n",
      "Média das notas: 7.5\n"
     ]
    }
   ],
   "source": [
    "alunos = pd.DataFrame({\n",
    "    \"Nome\" : [\"Ana\", \"Bruno\", \"Carla\", \"Daniel\", \"Eduardo\"],\n",
    "    \"Idade\" : [15, 16, 14, 17, 15],\n",
    "    \"Nota\" : [8.2, 6.5, 9.1, 7.8, 5.9],\n",
    "    \"Turma\" : [\"A\", \"B\", \"A\", \"C\", \"B\"]\n",
    "})\n",
    "\n",
    "print(alunos)\n",
    "print(\"\\nHead 3:\")\n",
    "print(alunos.head(3))\n",
    "print(\"\\nInfo:\")\n",
    "print(alunos.info())\n",
    "\n",
    "print(\"Média das notas:\", alunos[\"Nota\"].mean())"
   ]
  },
  {
   "cell_type": "markdown",
   "id": "938b9c4a",
   "metadata": {},
   "source": [
    "**Intermediário**\n",
    "\n",
    "Monte um DataFrame chamado `vendas_loja` com as colunas:\n",
    "`Data`, `Produto`, `Preço`, `Quantidade`.\n",
    "\n",
    "1. Adicione uma coluna `Receita` = `Preço * Quantidade`.\n",
    "\n",
    "2. Calcule o total de receita.\n",
    "\n",
    "3. Mostre somente os produtos com `Quantidade > 30`."
   ]
  },
  {
   "cell_type": "code",
   "execution_count": null,
   "id": "cb7dab92",
   "metadata": {},
   "outputs": [
    {
     "name": "stdout",
     "output_type": "stream",
     "text": [
      "         Data   Produto    Preço  Quantidade  Receita\n",
      "0  15/03/2025  Notebook  2500.00          20  50000.0\n",
      "1  16/03/2025     Mouse    45.90          13    596.7\n",
      "2  17/04/2025   Teclado   120.00          35   4200.0\n",
      "3  18/04/2025   Monitor   899.99          50  44999.5\n",
      "4  19/05/2025   Headset   199.50          45   8977.5\n",
      "Receita total: R$108773.70\n",
      "\n",
      "Produtos acima de 30 vendas:\n",
      "         Data  Produto   Preço  Quantidade  Receita\n",
      "2  17/04/2025  Teclado  120.00          35   4200.0\n",
      "3  18/04/2025  Monitor  899.99          50  44999.5\n",
      "4  19/05/2025  Headset  199.50          45   8977.5\n"
     ]
    }
   ],
   "source": [
    "vendas_loja = pd.DataFrame({\n",
    "    \"Data\" : [\"15/03/2025\", \"16/03/2025\", \"17/04/2025\", \"18/04/2025\", \"19/05/2025\"],\n",
    "    \"Produto\" : [\"Notebook\", \"Mouse\", \"Teclado\", \"Monitor\", \"Headset\"],\n",
    "    \"Preço\" : [2500.00, 45.90, 120.00, 899.99, 199.50],\n",
    "    \"Quantidade\" : [20, 13, 35, 50, 45]\n",
    "})\n",
    "\n",
    "vendas_loja[\"Receita\"] = vendas_loja[\"Preço\"] * vendas_loja[\"Quantidade\"]\n",
    "filtro_30_vendas = vendas_loja[\"Quantidade\"] > 30\n",
    "\n",
    "print(vendas_loja)\n",
    "print(f\"Receita total: R${vendas_loja['Receita'].sum():.2f}\")\n",
    "print(\"\\nProdutos acima de 30 vendas:\")\n",
    "print(vendas_loja[filtro_30_vendas])"
   ]
  },
  {
   "cell_type": "markdown",
   "id": "f086dd49",
   "metadata": {},
   "source": [
    "**Desafio (aplicação real)**\n",
    "\n",
    "Crie um DataFrame chamado financeiro com 5 colunas:\n",
    "`Mês`, `Receita`, `Despesas`, `Lucro`, `Margem (%)`.\n",
    "\n",
    "1. Calcule o lucro (`Receita - Despesas`) se não for dado.\n",
    "\n",
    "2. Calcule a margem de lucro (`Lucro / Receita * 100`).\n",
    "\n",
    "3. Mostre o mês de maior lucro e o de menor lucro usando `.idxmax()` e `.idxmin()`.\n",
    "\n",
    "💡 Dica: Use round() para deixar os valores com duas casas decimais."
   ]
  },
  {
   "cell_type": "code",
   "execution_count": 52,
   "id": "50931fe0",
   "metadata": {},
   "outputs": [
    {
     "name": "stdout",
     "output_type": "stream",
     "text": [
      "   Mês  Receita  Despesas  Lucro  Margem (%)\n",
      "0  Jan    85000     62000  23000       27.06\n",
      "1  Fev    78500     58200  20300       25.86\n",
      "2  Mar    92300     65800  26500       28.71\n",
      "3  Abr    88700     63900  24800       27.96\n",
      "4  Mai    95400     68500  26900       28.20\n",
      "5  Jun    82100     60700  21400       26.07\n",
      "\n",
      "O mês de maior lucro foi o 4\n",
      "O mês de menor lucro foi o 1\n"
     ]
    }
   ],
   "source": [
    "semestre = pd.DataFrame({\n",
    "    \"Mês\" : [\"Jan\", \"Fev\", \"Mar\", \"Abr\", \"Mai\", \"Jun\"],\n",
    "    \"Receita\" : [85000, 78500, 92300, 88700, 95400, 82100],\n",
    "    \"Despesas\" : [62000, 58200, 65800, 63900, 68500, 60700],\n",
    "})\n",
    "\n",
    "semestre[\"Lucro\"] = semestre[\"Receita\"] - semestre[\"Despesas\"]\n",
    "semestre[\"Margem (%)\"] = (semestre[\"Lucro\"] * 100) / semestre[\"Receita\"] \n",
    " \n",
    "print(round(semestre, 2))\n",
    "\n",
    "print(\"\\nO mês de maior lucro foi o\", semestre[\"Lucro\"].idxmax())\n",
    "print(\"O mês de menor lucro foi o\", semestre[\"Lucro\"].idxmin())"
   ]
  }
 ],
 "metadata": {
  "kernelspec": {
   "display_name": "Python 3",
   "language": "python",
   "name": "python3"
  },
  "language_info": {
   "codemirror_mode": {
    "name": "ipython",
    "version": 3
   },
   "file_extension": ".py",
   "mimetype": "text/x-python",
   "name": "python",
   "nbconvert_exporter": "python",
   "pygments_lexer": "ipython3",
   "version": "3.13.3"
  }
 },
 "nbformat": 4,
 "nbformat_minor": 5
}
