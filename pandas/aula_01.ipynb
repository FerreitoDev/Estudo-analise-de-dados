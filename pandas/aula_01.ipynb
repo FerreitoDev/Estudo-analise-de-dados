{
 "cells": [
  {
   "cell_type": "markdown",
   "id": "78823358",
   "metadata": {},
   "source": [
    "# Aula 1 – Introdução e Series\n",
    "**🎯 Objetivo da Aula**\n",
    "\n",
    "Compreender o que é o pandas, por que ele é essencial para análise de dados, e aprender a usar sua estrutura mais simples: a Series.\n",
    "\n",
    "**🧠 1. Teoria simples**\n",
    "\n",
    "O pandas é uma biblioteca que permite trabalhar com dados estruturados (tabelas) de forma muito mais fácil que listas ou arrays.\n",
    "Ele é o coração da análise de dados em Python, pois combina a velocidade do NumPy com recursos para:\n",
    "\n",
    "* organizar, limpar e transformar dados,\n",
    "\n",
    "* ler e gravar arquivos (CSV, Excel, etc.),\n",
    "\n",
    "* calcular estatísticas,\n",
    "\n",
    "* e até gerar gráficos simples.\n",
    "\n",
    "O pandas tem duas estruturas principais:\n",
    "\n",
    "| Estrutura   | Descrição                                             |\n",
    "| ----------- | ----------------------------------------------------- |\n",
    "| `Series`    | Vetor unidimensional com **rótulos (índices)**        |\n",
    "| `DataFrame` | Tabela 2D (como uma planilha), feita de várias Series |\n",
    "\n",
    "Nesta aula vamos focar na Series, que é como uma “coluna nomeada” com índice.\n",
    "\n",
    "**2. Demonstração prática**\n",
    "\n",
    "Comece sempre com:\n",
    "\n",
    "`import pandas as pd`\n",
    "\n",
    "**🔸 Criando uma Series**"
   ]
  },
  {
   "cell_type": "code",
   "execution_count": 3,
   "id": "98feba05",
   "metadata": {},
   "outputs": [
    {
     "name": "stdout",
     "output_type": "stream",
     "text": [
      "0    10\n",
      "1    20\n",
      "2    30\n",
      "3    40\n",
      "dtype: int64\n"
     ]
    }
   ],
   "source": [
    "import pandas as pd\n",
    "\n",
    "# Criando uma Series a partir de uma lista\n",
    "s = pd.Series([10, 20, 30, 40])\n",
    "print(s)"
   ]
  },
  {
   "cell_type": "markdown",
   "id": "ae88499f",
   "metadata": {},
   "source": [
    "➡ Os números à esquerda são índices automáticos.\n",
    "\n",
    "**🔸 Personalizando índices e nomes**"
   ]
  },
  {
   "cell_type": "code",
   "execution_count": null,
   "id": "1cb10019",
   "metadata": {},
   "outputs": [
    {
     "name": "stdout",
     "output_type": "stream",
     "text": [
      "A    10\n",
      "B    20\n",
      "C    30\n",
      "D    40\n",
      "Name: Vendas, dtype: int64\n"
     ]
    }
   ],
   "source": [
    "s = pd.Series([10, 20, 30, 40], index=['A', 'B', 'C', 'D'], name='Vendas')\n",
    "print(s)"
   ]
  },
  {
   "cell_type": "markdown",
   "id": "8a43cc35",
   "metadata": {},
   "source": [
    "Agora cada elemento tem um rótulo personalizado.\n",
    "\n",
    "**🔸 Acessando valores**"
   ]
  },
  {
   "cell_type": "code",
   "execution_count": 3,
   "id": "b0882658",
   "metadata": {},
   "outputs": [
    {
     "name": "stdout",
     "output_type": "stream",
     "text": [
      "10\n",
      "10\n",
      "A    10\n",
      "C    30\n",
      "Name: Vendas, dtype: int64\n"
     ]
    },
    {
     "name": "stderr",
     "output_type": "stream",
     "text": [
      "C:\\Users\\onnea\\AppData\\Local\\Temp\\ipykernel_10072\\2036556699.py:2: FutureWarning: Series.__getitem__ treating keys as positions is deprecated. In a future version, integer keys will always be treated as labels (consistent with DataFrame behavior). To access a value by position, use `ser.iloc[pos]`\n",
      "  print(s[0])        # Acessa pela posição\n"
     ]
    }
   ],
   "source": [
    "print(s['A'])      # Acessa pelo rótulo\n",
    "print(s[0])        # Acessa pela posição\n",
    "print(s[['A', 'C']])  # Vários valores"
   ]
  },
  {
   "cell_type": "markdown",
   "id": "24d08b48",
   "metadata": {},
   "source": [
    "**🔸 Operações matemáticas**"
   ]
  },
  {
   "cell_type": "code",
   "execution_count": 5,
   "id": "0dbf1775",
   "metadata": {},
   "outputs": [
    {
     "name": "stdout",
     "output_type": "stream",
     "text": [
      "A    20\n",
      "B    40\n",
      "C    60\n",
      "D    80\n",
      "Name: Vendas, dtype: int64\n",
      "25.0\n",
      "40\n",
      "count     4.000000\n",
      "mean     25.000000\n",
      "std      12.909944\n",
      "min      10.000000\n",
      "25%      17.500000\n",
      "50%      25.000000\n",
      "75%      32.500000\n",
      "max      40.000000\n",
      "Name: Vendas, dtype: float64\n"
     ]
    }
   ],
   "source": [
    "print(s * 2)         # Multiplica cada elemento por 2\n",
    "print(s.mean())      # Média\n",
    "print(s.max())       # Máximo\n",
    "print(s.describe())  # Resumo estatístico"
   ]
  },
  {
   "cell_type": "markdown",
   "id": "af4fbab9",
   "metadata": {},
   "source": [
    "# 3. Exemplo do mundo real: notas de alunos\n",
    "\n",
    "Vamos simular notas de alunos e calcular métricas:"
   ]
  },
  {
   "cell_type": "code",
   "execution_count": 4,
   "id": "c17f8f68",
   "metadata": {},
   "outputs": [
    {
     "name": "stdout",
     "output_type": "stream",
     "text": [
      "Ana        8.5\n",
      "Bruno      6.0\n",
      "Carla      9.0\n",
      "Daniel     7.5\n",
      "Eduardo    5.0\n",
      "Name: Notas, dtype: float64\n",
      "\n",
      "Média da turma: 7.2\n",
      "Aluno com maior nota: Carla\n",
      "Aluno com menor nota: Eduardo\n"
     ]
    }
   ],
   "source": [
    "import pandas as pd\n",
    "\n",
    "notas = pd.Series(\n",
    "    [8.5, 6.0, 9.0, 7.5, 5.0],\n",
    "    index=['Ana', 'Bruno', 'Carla', 'Daniel', 'Eduardo'],\n",
    "    name='Notas'\n",
    ")\n",
    "\n",
    "print(notas)\n",
    "print(\"\\nMédia da turma:\", notas.mean())\n",
    "print(\"Aluno com maior nota:\", notas.idxmax())\n",
    "print(\"Aluno com menor nota:\", notas.idxmin())"
   ]
  },
  {
   "cell_type": "markdown",
   "id": "eb0bb2ae",
   "metadata": {},
   "source": [
    "**Explicação:**\n",
    "\n",
    "* `.mean()` → média das notas\n",
    "\n",
    "* `.idxmax()` → índice (nome) da maior nota\n",
    "\n",
    "* `.idxmin()` → índice (nome) da menor nota"
   ]
  },
  {
   "cell_type": "markdown",
   "id": "2d3f0cf8",
   "metadata": {},
   "source": [
    "# Exercícios\n",
    "\n",
    "**Fácil**\n",
    "\n",
    "Crie uma `Series` chamada `idades` com 5 nomes e idades de pessoas.\n",
    "Mostre:\n",
    "\n",
    "1. A média das idades.\n",
    "\n",
    "2. A pessoa mais velha e a mais nova."
   ]
  },
  {
   "cell_type": "code",
   "execution_count": 8,
   "id": "6554391d",
   "metadata": {},
   "outputs": [
    {
     "name": "stdout",
     "output_type": "stream",
     "text": [
      "Breno       18\n",
      "Maria       21\n",
      "Gustavo     23\n",
      "Fernanda    27\n",
      "Flavio      32\n",
      "Name: Idades, dtype: int64\n",
      "A média das idades é: 24.2\n",
      "A pessoa mais velha é Flavio e a mais nova é Breno\n"
     ]
    }
   ],
   "source": [
    "idades = pd.Series(\n",
    "    [18, 21, 23, 27, 32],\n",
    "    index=[\"Breno\", \"Maria\", \"Gustavo\", \"Fernanda\", \"Flavio\"],\n",
    "    name=\"Idades\"\n",
    ")\n",
    "print(idades)\n",
    "\n",
    "print(\"A média das idades é:\", idades.mean())\n",
    "print(f\"A pessoa mais velha é {idades.idxmax()} e a mais nova é {idades.idxmin()}\")"
   ]
  },
  {
   "cell_type": "markdown",
   "id": "7f7303bb",
   "metadata": {},
   "source": [
    "**Intermediário**\n",
    "\n",
    "Crie uma `Series` chamada `vendas_semanais` com o total de vendas por dia da semana (`Seg` a `Dom`).\n",
    "Depois:\n",
    "\n",
    "1. Mostre o total de vendas (`.sum()`).\n",
    "\n",
    "2. Mostre a média diária.\n",
    "\n",
    "3. Mostre apenas os dias com vendas acima da média."
   ]
  },
  {
   "cell_type": "code",
   "execution_count": null,
   "id": "5a30857c",
   "metadata": {},
   "outputs": [
    {
     "name": "stdout",
     "output_type": "stream",
     "text": [
      "Vendas da semana:\n",
      " Seg    2323\n",
      "Ter    2345\n",
      "Qua    4231\n",
      "Qui    3244\n",
      "Sex    3988\n",
      "Sab    4009\n",
      "Dog    3514\n",
      "dtype: int64\n",
      "\n",
      "O total de vendas foi: R$ 23654\n",
      "Média diaria: R$ 3379.14\n",
      "Dias acima da media:\n",
      " Qua    4231\n",
      "Sex    3988\n",
      "Sab    4009\n",
      "Dog    3514\n",
      "dtype: int64\n"
     ]
    }
   ],
   "source": [
    "vendas_semanais = pd.Series(\n",
    "    [2323, 2345, 4231, 3244, 3988, 4009, 3514],\n",
    "    index=[\"Seg\", \"Ter\", \"Qua\", \"Qui\", \"Sex\", \"Sab\", \"Dom\"]\n",
    ")\n",
    "total_vendas = round(vendas_semanais.sum(), 2)\n",
    "media_vendas = round(vendas_semanais.mean(), 2)\n",
    "dias_acima_media = vendas_semanais > media_vendas\n",
    "\n",
    "print(\"Vendas da semana:\\n\",vendas_semanais)\n",
    "print(\"\\nO total de vendas foi: R$\", total_vendas)\n",
    "print(\"Média diaria: R$\", media_vendas )\n",
    "print(\"Dias acima da media:\\n\", vendas_semanais[dias_acima_media])"
   ]
  },
  {
   "cell_type": "markdown",
   "id": "d0317f32",
   "metadata": {},
   "source": [
    "**Desafio (análise real)**\n",
    "\n",
    "Simule um controle simples de despesas pessoais com uma Series chamada gastos, com índices sendo categorias (`Alimentação`, `Transporte`, `Lazer`, `Contas`, `Outros`).\n",
    "\n",
    "1. Calcule o total e o percentual que cada categoria representa do total.\n",
    "\n",
    "2. Mostre a categoria que mais consome seu orçamento.\n",
    "\n",
    "3. (Extra) Ordene do maior para o menor gasto.\n",
    "\n",
    "💡 Dica: use `gastos / gastos.sum() * 100` para obter os percentuais."
   ]
  },
  {
   "cell_type": "code",
   "execution_count": 23,
   "id": "64f088d9",
   "metadata": {},
   "outputs": [
    {
     "name": "stdout",
     "output_type": "stream",
     "text": [
      "Gastos do Mês:\n",
      " Alimentação    649.94\n",
      "Transporte     137.67\n",
      "Lazer          230.01\n",
      "Contas         915.30\n",
      "Outros          56.89\n",
      "dtype: float64\n",
      "\n",
      "Porcentagem de cada gasto:\n",
      " Alimentação    32.66\n",
      "Transporte      6.92\n",
      "Lazer          11.56\n",
      "Contas         46.00\n",
      "Outros          2.86\n",
      "dtype: float64\n",
      "\n",
      "Gastos em ordem decrescente:\n",
      " Contas         915.30\n",
      "Alimentação    649.94\n",
      "Lazer          230.01\n",
      "Transporte     137.67\n",
      "Outros          56.89\n",
      "dtype: float64\n",
      "Total: R$: 1989.81\n"
     ]
    }
   ],
   "source": [
    "gastos = pd.Series(\n",
    "    [649.94, 137.67, 230.01, 915.30, 56.89],\n",
    "    index=[\"Alimentação\", \"Transporte\", \"Lazer\", \"Contas\", \"Outros\"]\n",
    ")\n",
    "\n",
    "total_gastos = round(gastos.sum(), 2)\n",
    "gastos_porcentagem = round(gastos / gastos.sum() * 100, 2)\n",
    "gastos_descrescente = gastos.sort_values(ascending=False)\n",
    "\n",
    "print(\"Gastos do Mês:\\n\", gastos)\n",
    "print(\"\\nPorcentagem de cada gasto:\\n\", gastos_porcentagem)\n",
    "print(\"\\nGastos em ordem decrescente:\\n\", gastos_descrescente)\n",
    "print(\"Total: R$:\", total_gastos)\n",
    "\n"
   ]
  }
 ],
 "metadata": {
  "kernelspec": {
   "display_name": "Python 3",
   "language": "python",
   "name": "python3"
  },
  "language_info": {
   "codemirror_mode": {
    "name": "ipython",
    "version": 3
   },
   "file_extension": ".py",
   "mimetype": "text/x-python",
   "name": "python",
   "nbconvert_exporter": "python",
   "pygments_lexer": "ipython3",
   "version": "3.13.3"
  }
 },
 "nbformat": 4,
 "nbformat_minor": 5
}
