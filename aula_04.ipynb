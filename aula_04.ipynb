{
 "cells": [
  {
   "cell_type": "markdown",
   "id": "12348c45",
   "metadata": {},
   "source": [
    "# Funções Universais (ufuncs)\n",
    "\n",
    "**Explicação teórica simples**\n",
    "\n",
    "As ufuncs (universal functions) são funções matemáticas vetorizadas do NumPy que operam em todos os elementos de um array ao mesmo tempo.\n",
    "\n",
    "Elas são super rápidas, pois o NumPy executa os cálculos em baixo nível (C) — sem precisar de loops em Python.\n",
    "\n",
    "🧠 Pense assim:\n",
    "\n",
    "*Uma ufunc é como uma calculadora que faz a mesma operação em mil números de uma vez.*\n",
    "\n",
    "Algumas ufuncs mais comuns:\n",
    "\n",
    "* `np.sqrt()` → raiz quadrada\n",
    "\n",
    "* `np.exp()` → exponencial\n",
    "\n",
    "* `np.log()` → logaritmo natural\n",
    "\n",
    "* `np.sin(), np.cos(), np.tan()` → trigonométricas\n",
    "\n",
    "* `np.add(), np.subtract(), np.multiply(), np.divide()` → operações aritméticas vetorizadas"
   ]
  },
  {
   "cell_type": "code",
   "execution_count": 2,
   "id": "509df3d1",
   "metadata": {},
   "outputs": [
    {
     "name": "stdout",
     "output_type": "stream",
     "text": [
      "Raiz quadrada: [1. 2. 3. 4. 5.]\n",
      "Exponencial [2.71828183e+00 5.45981500e+01 8.10308393e+03 8.88611052e+06\n",
      " 7.20048993e+10]\n",
      "Logaritmo: [0.         1.38629436 2.19722458 2.77258872 3.21887582]\n",
      "Soma: [11 22 33]\n",
      "Multiplicação: [10 40 90]\n"
     ]
    }
   ],
   "source": [
    "import numpy as np\n",
    "\n",
    "arr = np.array([1, 4, 9, 16, 25])\n",
    "\n",
    "print(\"Raiz quadrada:\", np.sqrt(arr)) \n",
    "print(\"Exponencial\", np.exp(arr)) # e^x para cada elemento, e ≈ 2.71828\n",
    "print(\"Logaritmo:\", np.log(arr)) #Logaritmo é como \"desfazer\" a exponenciação\n",
    "\n",
    "#Operações entre arrays\n",
    "a = np.array([10, 20, 30])\n",
    "b = np.array([1, 2, 3])\n",
    "\n",
    "print(\"Soma:\", np.add(a, b))\n",
    "print(\"Multiplicação:\", np.multiply(a, b))"
   ]
  },
  {
   "cell_type": "markdown",
   "id": "36d901d1",
   "metadata": {},
   "source": [
    "# Exercícios\n",
    "\n",
    "**Fácil**\n",
    "\n",
    "Crie um array com `[4, 9, 16, 25, 36]` e mostre:\n",
    "\n",
    "1. A raiz quadrada de todos os elementos.\n",
    "2. O logaritmo natural de todos os elementos."
   ]
  },
  {
   "cell_type": "code",
   "execution_count": null,
   "id": "d9b16c3b",
   "metadata": {},
   "outputs": [
    {
     "name": "stdout",
     "output_type": "stream",
     "text": [
      "Raiz quadrada: [2. 3. 4. 5. 6.]\n",
      "Logaritmo: [1.38629436 2.19722458 2.77258872 3.21887582 3.58351894]\n"
     ]
    }
   ],
   "source": [
    "arr = np.array([4, 9, 16, 25, 36])\n",
    "\n",
    "print(\"Raiz quadrada:\", np.sqrt(arr))\n",
    "print( \"Logaritmo:\", np.log(arr))"
   ]
  },
  {
   "cell_type": "markdown",
   "id": "64bacc33",
   "metadata": {},
   "source": [
    "**Intermediário**\n",
    "\n",
    "Crie dois arrays:\n",
    "`a = [5, 10, 15]`\n",
    "`b = [2, 4, 6]`\n",
    "Calcule:\n",
    "\n",
    "* Soma (`np.add`)\n",
    "* Subtração (`np.subtract`)\n",
    "* Multiplicação (`np.multiply`)\n",
    "* Divisão (`np.divide`)"
   ]
  },
  {
   "cell_type": "code",
   "execution_count": 4,
   "id": "24bdcc66",
   "metadata": {},
   "outputs": [
    {
     "name": "stdout",
     "output_type": "stream",
     "text": [
      "Soma: [ 7 14 21]\n",
      "Subtração: [3 6 9]\n",
      "Multiplicação: [10 40 90]\n",
      "Divisão: [2.5 2.5 2.5]\n"
     ]
    }
   ],
   "source": [
    "a = np.array([5, 10 ,15])\n",
    "b = np.array([2, 4, 6])\n",
    "\n",
    "print(\"Soma:\", np.add(a, b))\n",
    "print(\"Subtração:\", np.subtract(a, b))\n",
    "print(\"Multiplicação:\", np.multiply(a, b))\n",
    "print(\"Divisão:\", np.divide(a, b))"
   ]
  },
  {
   "cell_type": "markdown",
   "id": "2f742d54",
   "metadata": {},
   "source": [
    "**Desafio**\n",
    "\n",
    "Você tem um array representando o preço inicial de um produto ao longo de 5 dias:\n",
    "\n",
    "`preco = np.array([100, 105, 110, 115, 120])`\n",
    "\n",
    "1. Calcule a taxa de variação percentual diária.<br>\n",
    "Dica: use `np.diff(preco)` e divida pelo preço do dia anterior.\n",
    "2. Converta o resultado em porcentagem multiplicando por 100.\n",
    "3. Mostre o array de variação com duas casas decimais."
   ]
  },
  {
   "cell_type": "code",
   "execution_count": null,
   "id": "34bd88cd",
   "metadata": {},
   "outputs": [
    {
     "name": "stdout",
     "output_type": "stream",
     "text": [
      "Variação: [5.   4.76 4.55 4.35]\n"
     ]
    }
   ],
   "source": [
    "preco = np.array([100, 105, 110, 115, 120])\n",
    "\n",
    "diferença = np.diff(preco) #np.diff(preco) retorna: [105-100, 110-105, 115-110, 120-115] = [5, 5, 5, 5]\n",
    "preco_anterior = preco[:-1] #pega todos os preços menos o ultimo\n",
    "\n",
    "variacao = (diferença / preco_anterior) * 100\n",
    "print(f\"Variação:\", np.round(variacao, 2)) #arredonda pra 2 casas decimais\n"
   ]
  }
 ],
 "metadata": {
  "kernelspec": {
   "display_name": "Python 3",
   "language": "python",
   "name": "python3"
  },
  "language_info": {
   "codemirror_mode": {
    "name": "ipython",
    "version": 3
   },
   "file_extension": ".py",
   "mimetype": "text/x-python",
   "name": "python",
   "nbconvert_exporter": "python",
   "pygments_lexer": "ipython3",
   "version": "3.13.3"
  }
 },
 "nbformat": 4,
 "nbformat_minor": 5
}
