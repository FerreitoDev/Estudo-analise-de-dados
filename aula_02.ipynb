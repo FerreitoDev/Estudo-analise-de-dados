{
 "cells": [
  {
   "cell_type": "markdown",
   "id": "9c709a80",
   "metadata": {},
   "source": [
    "# Tipos de dados e operações matemáticas vetorizadas\n",
    "\n",
    "Tipos de dados e operações matemáticas vetorizadas\n",
    "Explicação teórica simples\n",
    "\n",
    "No NumPy, cada array possui um tipo de dado (dtype), que define que tipo de valores ele guarda:\n",
    "\n",
    "* `int` → números inteiros\n",
    "\n",
    "* `float` → números com casas decimais\n",
    "\n",
    "* `bool` → valores True/False\n",
    "\n",
    "* `complex` → números complexos\n",
    "\n",
    "Além disso, NumPy permite operações matemáticas vetorizadas, ou seja, operações que se aplicam a todos os elementos do array de uma só vez, sem precisar de loops.\n",
    "\n",
    "Exemplo rápido: se você tem temperaturas em Celsius e quer converter para Fahrenheit, você pode aplicar a fórmula a todo array diretamente.\n",
    "\n",
    "**Demonstração prática**"
   ]
  },
  {
   "cell_type": "code",
   "execution_count": 3,
   "id": "1fccee58",
   "metadata": {},
   "outputs": [
    {
     "name": "stdout",
     "output_type": "stream",
     "text": [
      "int64\n",
      "float64\n",
      "[71.6 73.4 69.8 68. ]\n",
      "[5 7 9]\n",
      "[ 4 10 18]\n"
     ]
    }
   ],
   "source": [
    "import numpy as np\n",
    "\n",
    "#Array de inteiros\n",
    "arr_int = np.array([1, 2, 3], dtype=int)\n",
    "print(arr_int.dtype)\n",
    "\n",
    "#Array de floats\n",
    "arr_float = np.array([1, 2, 3], dtype=float)\n",
    "print(arr_float.dtype)\n",
    "\n",
    "#Operações vetorizadas\n",
    "temperaturas_c = np.array([22, 23, 21, 20])\n",
    "temperaturas_f = temperaturas_c * 9/5 + 32 #conversão para Fahrenheit\n",
    "print(temperaturas_f)\n",
    "\n",
    "# perações entre arrays\n",
    "a = np.array([1, 2, 3])\n",
    "b = np.array([4, 5, 6])\n",
    "print(a + b)  # Saída: [5 7 9]\n",
    "print(a * b)  # Saída: [ 4 10 18]"
   ]
  },
  {
   "cell_type": "markdown",
   "id": "4dfabb1e",
   "metadata": {},
   "source": [
    "***Exercícios***\n",
    "\n",
    "**Fácil**: Crie um array com valores [1, 3, 5] e transforme em float.\n"
   ]
  },
  {
   "cell_type": "code",
   "execution_count": 6,
   "id": "0a4e004e",
   "metadata": {},
   "outputs": [
    {
     "name": "stdout",
     "output_type": "stream",
     "text": [
      "float64\n"
     ]
    }
   ],
   "source": [
    "arr_float = np.array([1, 3, 5], dtype=float)\n",
    "print(arr_float.dtype)"
   ]
  },
  {
   "cell_type": "markdown",
   "id": "6bfa87e2",
   "metadata": {},
   "source": [
    "**Intermediário**: Um array com alturas em metros [1.70, 1.82, 1.65]. Converta para centímetros usando operação vetorizada."
   ]
  },
  {
   "cell_type": "code",
   "execution_count": 7,
   "id": "d02a315b",
   "metadata": {},
   "outputs": [
    {
     "name": "stdout",
     "output_type": "stream",
     "text": [
      "[170. 182. 165.]\n"
     ]
    }
   ],
   "source": [
    "alturas_m = np.array([1.70, 1.82, 1.65])\n",
    "\n",
    "alturas_cm = alturas_m * 100\n",
    "print(alturas_cm)"
   ]
  },
  {
   "cell_type": "markdown",
   "id": "2a2d2dbc",
   "metadata": {},
   "source": [
    "**Desafio**: Dois arrays representam vendas de dois produtos em 7 dias. Calcule o total vendido por dia e depois o total geral de vendas, usando apenas operações vetorizadas."
   ]
  },
  {
   "cell_type": "code",
   "execution_count": null,
   "id": "552ac677",
   "metadata": {},
   "outputs": [
    {
     "name": "stdout",
     "output_type": "stream",
     "text": [
      "Vendas do Produto 1: [35 29 67 24 69 65 40]\n",
      "Vendas do Produto 2: [89 46 53 65 17  8 32]\n",
      "\n",
      "--- Estatisticas---\n",
      "Total vendido por dia: [124  75 120  89  86  73  72]\n",
      "Total geral de vendas: 639\n"
     ]
    }
   ],
   "source": [
    "vendas_1= np.random.randint(1, 100, 7) #1 é o minímo e 100 é o máximo\n",
    "vendas_2= np.random.randint(1, 100, 7)\n",
    "\n",
    "total = vendas_1 + vendas_2\n",
    "print(\"Vendas do Produto 1:\", vendas_1)\n",
    "print(\"Vendas do Produto 2:\", vendas_2)\n",
    "print(\"\\n--- Estatisticas---\")\n",
    "print(\"Total vendido por dia:\", total)\n",
    "print(\"Total geral de vendas:\", np.sum(total))"
   ]
  }
 ],
 "metadata": {
  "kernelspec": {
   "display_name": "Python 3",
   "language": "python",
   "name": "python3"
  },
  "language_info": {
   "codemirror_mode": {
    "name": "ipython",
    "version": 3
   },
   "file_extension": ".py",
   "mimetype": "text/x-python",
   "name": "python",
   "nbconvert_exporter": "python",
   "pygments_lexer": "ipython3",
   "version": "3.13.3"
  }
 },
 "nbformat": 4,
 "nbformat_minor": 5
}
