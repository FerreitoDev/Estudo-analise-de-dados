{
 "cells": [
  {
   "cell_type": "markdown",
   "id": "bb816980",
   "metadata": {},
   "source": [
    "# Indexação, fatiamento e filtragem\n",
    "**Explicação teórica simples**\n",
    "\n",
    "No NumPy, você pode acessar partes específicas de um array (ou subconjuntos de dados) sem precisar copiar todo o conteúdo.\n",
    "Isso é feito com três técnicas principais:\n",
    "\n",
    "1. **Indexação** → pegar um elemento pelo seu índice.\n",
    "\n",
    "2. **Fatiamento (slicing)** → pegar uma sequência de elementos.\n",
    "\n",
    "3. **Filtragem (boolean indexing)** → selecionar elementos com base em uma condição lógica.\n",
    "\n",
    "Essas operações são essenciais para preparar e limpar dados antes da análise."
   ]
  },
  {
   "cell_type": "code",
   "execution_count": 3,
   "id": "5a500c9a",
   "metadata": {},
   "outputs": [
    {
     "name": "stdout",
     "output_type": "stream",
     "text": [
      "10\n",
      "50\n",
      "[20 30 40]\n",
      "[10 20 30]\n",
      "[10 30 50]\n",
      "[False False  True  True  True]\n",
      "[30 40 50]\n"
     ]
    }
   ],
   "source": [
    "import numpy as np\n",
    "\n",
    "#Criando um array simples\n",
    "arr = np.array([10, 20, 30, 40, 50])\n",
    "\n",
    "#Indexação\n",
    "print(arr[0])\n",
    "print(arr[-1])\n",
    "\n",
    "#Fatiamento\n",
    "print(arr[1:4]) #Do índice 1 ao 3\n",
    "print(arr[:3]) # Três primeiros\n",
    "print(arr[::2]) #Pulando de 2 em 2\n",
    "\n",
    "#Filtragem (condições)\n",
    "filtro = arr > 25\n",
    "print(filtro)\n",
    "print(arr[filtro])"
   ]
  },
  {
   "cell_type": "markdown",
   "id": "023a7700",
   "metadata": {},
   "source": [
    "# Exercícios\n",
    "\n",
    "**Fácil**\n",
    "\n",
    "Crie um array de `[10, 20, 30, 40, 50]` e:\n",
    "\n",
    "* Mostre o segundo e o último elemento.\n",
    "* Mostre os três primeiros números usando fatiamento."
   ]
  },
  {
   "cell_type": "code",
   "execution_count": 5,
   "id": "c4137394",
   "metadata": {},
   "outputs": [
    {
     "name": "stdout",
     "output_type": "stream",
     "text": [
      "Primeiro elemento: 10, último elemento: 50\n",
      "Os 3 primeiros números são: [10 20 30]\n"
     ]
    }
   ],
   "source": [
    "arr = np.array([10, 20, 30, 40, 50])\n",
    "print(f\"Primeiro elemento: {arr[0]}, último elemento: {arr[-1]}\")\n",
    "print(\"Os 3 primeiros números são:\", arr[:3])"
   ]
  },
  {
   "cell_type": "markdown",
   "id": "5b036ee2",
   "metadata": {},
   "source": [
    "**Intermediário**\n",
    "\n",
    "Crie um array com as idades `[15, 22, 18, 30, 45, 12, 25]`.\n",
    "Mostre apenas as idades maiores ou iguais a 18 (maiores de idade)."
   ]
  },
  {
   "cell_type": "code",
   "execution_count": null,
   "id": "8d0c1de1",
   "metadata": {},
   "outputs": [
    {
     "name": "stdout",
     "output_type": "stream",
     "text": [
      "[22 18 30 45 25]\n"
     ]
    }
   ],
   "source": [
    "idades = np.array([15, 22, 18, 30, 45, 12, 25])\n",
    "filtro_idades = idades >= 18\n",
    "print(idades[filtro_idades])"
   ]
  },
  {
   "cell_type": "markdown",
   "id": "b98e7909",
   "metadata": {},
   "source": [
    "**Desafio**\n",
    "\n",
    "Você tem as notas de uma turma:\n",
    "\n",
    "`notas = np.array([6.5, 8.2, 9.0, 5.4, 7.8, 4.9, 8.7])`\n",
    "\n",
    "1. Mostre as notas acima de 7.0.\n",
    "2. Depois, substitua as notas abaixo de 6.0 por 6.0 (usando indexação e atribuição).\n",
    "3. Mostre o array atualizado."
   ]
  },
  {
   "cell_type": "code",
   "execution_count": null,
   "id": "e3adcea3",
   "metadata": {},
   "outputs": [
    {
     "name": "stdout",
     "output_type": "stream",
     "text": [
      "Notas acima de 7.0: [8.2 9.  7.8 8.7]\n",
      "Notas atualizadas: [6.5 8.2 9.  6.  7.8 6.  8.7]\n"
     ]
    }
   ],
   "source": [
    "notas = np.array([6.5, 8.2, 9.0, 5.4, 7.8, 4.9, 8.7])\n",
    "\n",
    "notas_acima_7 = notas > 7.0\n",
    "print(f\"Notas acima de 7.0: {notas[notas_acima_7]}\")\n",
    "\n",
    "notas[notas < 6.0] = 6.0\n",
    "print(\"Notas atualizadas:\", notas)"
   ]
  }
 ],
 "metadata": {
  "kernelspec": {
   "display_name": "Python 3",
   "language": "python",
   "name": "python3"
  },
  "language_info": {
   "codemirror_mode": {
    "name": "ipython",
    "version": 3
   },
   "file_extension": ".py",
   "mimetype": "text/x-python",
   "name": "python",
   "nbconvert_exporter": "python",
   "pygments_lexer": "ipython3",
   "version": "3.13.3"
  }
 },
 "nbformat": 4,
 "nbformat_minor": 5
}
