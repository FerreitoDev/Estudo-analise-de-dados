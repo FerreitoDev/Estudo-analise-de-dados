{
 "cells": [
  {
   "cell_type": "markdown",
   "id": "094f4ced",
   "metadata": {},
   "source": [
    "# Álgebra linear básica (dot, transpose, inv)\n",
    "\n",
    "**Explicação teórica simples\n",
    "\n",
    "NumPy também é usado para operações de álgebra linear, essenciais em ciência de dados, machine learning e engenharia.\n",
    "As principais funções são:\n",
    "\n",
    "* `np.dot(a, b)` → produto escalar ou multiplicação matricial.\n",
    "* `np.transpose(a)` → transposição de uma matriz (linhas ↔ colunas).\n",
    "* `np.linalg.inv(a)` → matriz inversa (usada em sistemas lineares).\n",
    "* `np.linalg.det(a)` → determinante.\n",
    "\n",
    "🧠 Em resumo:\n",
    "\n",
    "*Matrizes são como tabelas de números — e o NumPy permite manipulá-las como objetos matemáticos de verdade.*"
   ]
  },
  {
   "cell_type": "code",
   "execution_count": 2,
   "id": "91859b0b",
   "metadata": {},
   "outputs": [
    {
     "name": "stdout",
     "output_type": "stream",
     "text": [
      "Produto matricial (A · B):\n",
      " [[19 22]\n",
      " [43 50]]\n",
      "Transposta de A:\n",
      " [[1 3]\n",
      " [2 4]]\n",
      "Determinante de A: -2.0000000000000004\n",
      "Inversa de A:\n",
      " [[-2.   1. ]\n",
      " [ 1.5 -0.5]]\n"
     ]
    }
   ],
   "source": [
    "import numpy as np\n",
    "\n",
    "# Criando matrizes\n",
    "A = np.array([[1, 2], [3, 4]])\n",
    "B = np.array([[5, 6], [7, 8]])\n",
    "\n",
    "# Multiplicação matricial\n",
    "print(\"Produto matricial (A · B):\\n\", np.dot(A, B))\n",
    "\n",
    "# Transposição\n",
    "print(\"Transposta de A:\\n\", np.transpose(A))\n",
    "\n",
    "# Determinante e inversa\n",
    "print(\"Determinante de A:\", np.linalg.det(A))\n",
    "print(\"Inversa de A:\\n\", np.linalg.inv(A))"
   ]
  },
  {
   "cell_type": "markdown",
   "id": "3c4d2bc9",
   "metadata": {},
   "source": [
    "Exemplo do mundo real\n",
    "\n",
    "Em modelos de regressão linear, a equação normal envolve a operação:\n",
    "\n",
    "`β = (XᵀX)⁻¹Xᵀy`\n",
    "\n",
    "Você pode resolvê-la com NumPy facilmente:"
   ]
  },
  {
   "cell_type": "code",
   "execution_count": 3,
   "id": "4af54c29",
   "metadata": {},
   "outputs": [
    {
     "name": "stdout",
     "output_type": "stream",
     "text": [
      "Coeficientes da regressão: [1. 1.]\n"
     ]
    }
   ],
   "source": [
    "X = np.array([[1, 1], [1, 2], [1, 3]])  # variável independente (ex: tempo)\n",
    "y = np.array([2, 3, 4])                 # variável dependente (ex: vendas)\n",
    "\n",
    "beta = np.linalg.inv(X.T @ X) @ X.T @ y\n",
    "print(\"Coeficientes da regressão:\", beta)"
   ]
  },
  {
   "cell_type": "markdown",
   "id": "a8df3a97",
   "metadata": {},
   "source": [
    "# Exercícios\n",
    "\n",
    "**Fácil**\n",
    "\n",
    "Crie uma matriz `[[2, 4], [6, 8]]` e:\n",
    "\n",
    "* Mostre sua transposta.\n",
    "\n",
    "* Calcule seu determinante com `np.linalg.det()`.\n"
   ]
  },
  {
   "cell_type": "code",
   "execution_count": null,
   "id": "33ddf940",
   "metadata": {},
   "outputs": [
    {
     "name": "stdout",
     "output_type": "stream",
     "text": [
      "A transposta de (a) é:\n",
      " [[2 6]\n",
      " [4 8]]\n",
      "A determinante de (a) é: -8\n"
     ]
    }
   ],
   "source": [
    "a = np.array([[2,4], [6, 8]])\n",
    "print(\"A transposta de (a) é:\\n\", np.transpose(a))\n",
    "print(\"A determinante de (a) é:\", np.linalg.det(a))"
   ]
  },
  {
   "cell_type": "markdown",
   "id": "9d25d31e",
   "metadata": {},
   "source": [
    "**Intermediário**\n",
    "\n",
    "Crie duas matrizes:\n",
    "\n",
    "`A = np.array([[1, 2], [3, 4]])`\n",
    "\n",
    "`B = np.array([[2, 0], [1, 3]])`\n",
    "\n",
    "Calcule o produto matricial A · B."
   ]
  },
  {
   "cell_type": "code",
   "execution_count": 8,
   "id": "3ef54b5d",
   "metadata": {},
   "outputs": [
    {
     "name": "stdout",
     "output_type": "stream",
     "text": [
      "[[ 4  6]\n",
      " [10 12]]\n"
     ]
    }
   ],
   "source": [
    "A = np.array([[1, 2], [3, 4]])\n",
    "B = np.array([[2, 0], [1, 3]])\n",
    "\n",
    "print(A @ B)"
   ]
  },
  {
   "cell_type": "markdown",
   "id": "2ae07b2c",
   "metadata": {},
   "source": [
    "**Desafio**\n",
    "\n",
    "Crie uma matriz:\n",
    "\n",
    "`M = np.array([[4, 7], [2, 6]])`\n",
    "\n",
    "1. Mostre o determinante e a inversa.\n",
    "\n",
    "2. Verifique se a multiplicação de M pela sua inversa resulta na matriz identidade (np.eye(2)).\n",
    "\n"
   ]
  },
  {
   "cell_type": "code",
   "execution_count": null,
   "id": "ebc0b6dd",
   "metadata": {},
   "outputs": [
    {
     "name": "stdout",
     "output_type": "stream",
     "text": [
      "Determinante: 10\n",
      "Inversa:\n",
      " [[ 0.6 -0.7]\n",
      " [-0.2  0.4]]\n",
      "True\n"
     ]
    }
   ],
   "source": [
    "M = np.array([[4, 7], [2, 6]])\n",
    "\n",
    "inversa = np.linalg.inv(M)\n",
    "print(\"Determinante:\", round(np.linalg.det(M)))\n",
    "print(\"Inversa:\\n\", inversa)\n",
    "\n",
    "print(np.allclose(inversa @ M, np.eye(2))) #np.eye(2) matriz identidade 2x2 [[1, 0], [0, 1]]\n",
    "\n"
   ]
  }
 ],
 "metadata": {
  "kernelspec": {
   "display_name": "Python 3",
   "language": "python",
   "name": "python3"
  },
  "language_info": {
   "codemirror_mode": {
    "name": "ipython",
    "version": 3
   },
   "file_extension": ".py",
   "mimetype": "text/x-python",
   "name": "python",
   "nbconvert_exporter": "python",
   "pygments_lexer": "ipython3",
   "version": "3.13.3"
  }
 },
 "nbformat": 4,
 "nbformat_minor": 5
}
