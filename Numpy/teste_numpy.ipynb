{
 "cells": [
  {
   "cell_type": "markdown",
   "id": "e9ba320c",
   "metadata": {},
   "source": [
    "# Teste Prático Final – NumPy\n",
    "\n",
    "Responda com código Python (sem comentários explicativos) para cada questão.\n",
    "\n",
    "**1️⃣ Criação e operações**\n",
    "\n",
    "Crie um array de 12 números inteiros de 10 a 120 (de 10 em 10).\n",
    "Mostre apenas os números maiores que 60 e calcule sua média."
   ]
  },
  {
   "cell_type": "code",
   "execution_count": 32,
   "id": "a3fd6479",
   "metadata": {},
   "outputs": [
    {
     "name": "stdout",
     "output_type": "stream",
     "text": [
      "[ 10  20  30  40  50  60  70  80  90 100 110 120]\n",
      "Números maiores que 60: [ 70  80  90 100 110 120]\n",
      "Media dos números maiores que 60: 95.0\n",
      "Media geral: 65.0\n"
     ]
    }
   ],
   "source": [
    "import numpy as np\n",
    "\n",
    "arr = np.arange(10, 121, 10)\n",
    "filtro_maior_60 = arr > 60\n",
    "arr_filtrado = arr[filtro_maior_60]\n",
    "print(arr)\n",
    "print(\"Números maiores que 60:\", arr_filtrado)\n",
    "print(\"Media dos números maiores que 60:\", np.mean(arr_filtrado))\n",
    "print(\"Media geral:\", np.mean(arr))\n"
   ]
  },
  {
   "cell_type": "markdown",
   "id": "c2b85325",
   "metadata": {},
   "source": [
    "**2️⃣ Estatísticas**\n",
    "\n",
    "Crie um array com 8 valores representando o faturamento semanal de uma loja:\n",
    "`[1200, 1340, 1500, 1700, 1650, 1800, 1900, 2100]`\n",
    "\n",
    "Calcule:\n",
    "\n",
    "* média, mediana e desvio padrão;\n",
    "\n",
    "* e mostre quais semanas tiveram faturamento acima da média."
   ]
  },
  {
   "cell_type": "code",
   "execution_count": null,
   "id": "85adf4e6",
   "metadata": {},
   "outputs": [
    {
     "name": "stdout",
     "output_type": "stream",
     "text": [
      "Faturamento da semanal: [1200 1340 1500 1700 1650 1800 1900 2100]\n",
      "Média 1648.75\n",
      "Mediana 1675.0\n",
      "Desvio Padrão: 276.38\n",
      "As semanas acima da média foram:  [4 5 6 7 8]\n"
     ]
    }
   ],
   "source": [
    "faturamento = np.array([1200, 1340, 1500, 1700, 1650, 1800, 1900, 2100])\n",
    "\n",
    "media = np.mean(faturamento)\n",
    "mediana = np.median(faturamento)\n",
    "desvio_padrao = np.std(faturamento)\n",
    "filtro_acima_media = faturamento > media\n",
    "indice_acima_media = np.where(faturamento > media)[0] + 1\n",
    "\n",
    "print(\"Faturamento da semanal:\", faturamento)\n",
    "print(\"Média\", media)\n",
    "print(\"Mediana\", mediana)\n",
    "print(\"Desvio Padrão:\", round(desvio_padrao, 2))\n",
    "print(\"As semanas acima da média foram: \", indice_acima_media)\n"
   ]
  },
  {
   "cell_type": "markdown",
   "id": "fe27d18a",
   "metadata": {},
   "source": [
    "**3️⃣ Álgebra Linear**\n",
    "\n",
    "Crie as matrizes:\n",
    "\n",
    "`A = np.array([[2, 1], [7, 3]])`\n",
    "\n",
    "`B = np.array([[4, 2], [5, 6]])`\n",
    "\n",
    "Calcule:\n",
    "\n",
    "* o produto matricial `A · B`;\n",
    "\n",
    "* o determinante de `A`;\n",
    "\n",
    "* e a inversa de `A`."
   ]
  },
  {
   "cell_type": "code",
   "execution_count": 49,
   "id": "583c213b",
   "metadata": {},
   "outputs": [
    {
     "name": "stdout",
     "output_type": "stream",
     "text": [
      "A * B =\n",
      " [[13 10]\n",
      " [43 32]]\n",
      "\n",
      "Determinante de A: -1.0000000000000002\n",
      "\n",
      "Inversa de A:\n",
      " [[-3.  1.]\n",
      " [ 7. -2.]]\n"
     ]
    }
   ],
   "source": [
    "a = np.array([[2, 1], [7, 3]])\n",
    "b = np.array([[4, 2], [5, 6]])\n",
    "\n",
    "print(\"A * B =\\n\", a @ b)\n",
    "print(\"\\nDeterminante de A:\",np.linalg.det(a))\n",
    "print(\"\\nInversa de A:\\n\",np.linalg.inv(a))"
   ]
  },
  {
   "cell_type": "markdown",
   "id": "5e913c97",
   "metadata": {},
   "source": [
    "**4️⃣ Simulação**\n",
    "\n",
    "Simule 20 dias de preços de uma ação, começando em R$50.\n",
    "Use variações diárias com média de 0.001 e desvio padrão de 0.02.\n",
    "Mostre:\n",
    "\n",
    "* o preço final,\n",
    "\n",
    "* o dia mais alto e o mais baixo,\n",
    "\n",
    "* e o retorno total em porcentagem."
   ]
  },
  {
   "cell_type": "code",
   "execution_count": 164,
   "id": "922ad7d8",
   "metadata": {},
   "outputs": [
    {
     "name": "stdout",
     "output_type": "stream",
     "text": [
      "Valores diarios:\n",
      " [50.46 50.89 51.84 52.23 52.22 51.08 50.6  51.05 51.94 51.78 52.04 51.28\n",
      " 51.63 51.87 50.98 50.64 51.09 52.41 53.09 53.92]\n",
      "\n",
      "Preço final: R$ 53.92\n",
      "Dia do valor mais alto : 20\n",
      "Dia do valor mais baixo: 1\n",
      "Retorno total: 6.85%\n"
     ]
    }
   ],
   "source": [
    "desvio, media = 0.02, 0.001\n",
    "varicao = np.random.randn(20) * desvio + media\n",
    "acao = 50 * np.cumprod(1 + varicao)\n",
    "valor_max = np.argmax(acao) + 1\n",
    "valor_min = np.argmin(acao) + 1\n",
    "retorno = (acao[-1] / acao[0] -1) * 100\n",
    "\n",
    "print(\"Valores diarios:\\n\", np.round(acao, 2))\n",
    "print(\"\\nPreço final: R$\", round(acao[-1], 2))\n",
    "print(f\"Dia do valor mais alto : {valor_max}\\nDia do valor mais baixo: {valor_min}\")\n",
    "print(f\"Retorno total: {retorno:.2f}%\")"
   ]
  },
  {
   "cell_type": "markdown",
   "id": "5b401a8a",
   "metadata": {},
   "source": [
    "**5️⃣ Desafio Analítico**\n",
    "\n",
    "Usando apenas NumPy, gere 1000 valores simulando alturas humanas com média 170 cm e desvio padrão 10.\n",
    "Mostre:\n",
    "\n",
    "* média e desvio padrão obtidos,\n",
    "\n",
    "* quantas pessoas têm mais de 185 cm,\n",
    "\n",
    "* e o percentual que isso representa."
   ]
  },
  {
   "cell_type": "code",
   "execution_count": null,
   "id": "1d8f26e6",
   "metadata": {},
   "outputs": [
    {
     "name": "stdout",
     "output_type": "stream",
     "text": [
      "Média de altura: 170.96\n",
      "Tem 74 pessoas maior que 185cm. Que corresponde a 7.40%\n"
     ]
    }
   ],
   "source": [
    "desvio, media = 10, 170\n",
    "alturas = np.random.randn(1000) * desvio + media\n",
    "media_altura = round(np.mean(alturas), 2)\n",
    "quantidade_maior_185 = np.sum(alturas > 185)\n",
    "porcentagem_185 = (quantidade_maior_185 * 100) / alturas.size\n",
    "\n",
    "print(\"Média de altura:\", media_altura)\n",
    "print(f\"Tem {quantidade_maior_185} pessoas maior que 185cm. Que corresponde a {porcentagem_185:.2f}%\")\n"
   ]
  }
 ],
 "metadata": {
  "kernelspec": {
   "display_name": "Python 3",
   "language": "python",
   "name": "python3"
  },
  "language_info": {
   "codemirror_mode": {
    "name": "ipython",
    "version": 3
   },
   "file_extension": ".py",
   "mimetype": "text/x-python",
   "name": "python",
   "nbconvert_exporter": "python",
   "pygments_lexer": "ipython3",
   "version": "3.13.3"
  }
 },
 "nbformat": 4,
 "nbformat_minor": 5
}
