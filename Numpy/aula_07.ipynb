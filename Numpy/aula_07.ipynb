{
 "cells": [
  {
   "cell_type": "markdown",
   "id": "e4527df3",
   "metadata": {},
   "source": [
    "# Números aleatórios e simulações\n",
    "\n",
    "**Explicação teórica simples**\n",
    "\n",
    "O módulo `np.random` do NumPy é usado para gerar números aleatórios — essenciais em simulações, estatística e testes de modelos.\n",
    "\n",
    "Principais funções:\n",
    "\n",
    "* `np.random.rand(n)` → números decimais entre 0 e 1.\n",
    "\n",
    "* `np.random.randn(n)` → números distribuídos normalmente (média 0, desvio padrão 1).\n",
    "\n",
    "* `np.random.randint(min, max, size)` → inteiros aleatórios.\n",
    "\n",
    "* `np.random.choice(array)` → escolhe elementos aleatórios de um array.\n",
    "\n",
    "* `np.random.seed(valor)` → garante reprodutibilidade (gera sempre o mesmo resultado)."
   ]
  },
  {
   "cell_type": "code",
   "execution_count": 1,
   "id": "6b4a7051",
   "metadata": {},
   "outputs": [
    {
     "name": "stdout",
     "output_type": "stream",
     "text": [
      "Entre 0 e 1: [0.37454012 0.95071431 0.73199394 0.59865848 0.15601864]\n",
      "Inteiros de 1 a 10: [3 7 8 5 4]\n",
      "Alturas simuladas: [173.9 160.7 170.8 168.4 170.2 165.7 164.7 168.8 172.2 162.3]\n",
      "Amostra de nomes: ['Bruno' 'Eduardo' 'Ana']\n"
     ]
    }
   ],
   "source": [
    "import numpy as np\n",
    "\n",
    "np.random.seed(42)  # garante resultados consistentes\n",
    "\n",
    "# 1️⃣ Gerando números aleatórios\n",
    "print(\"Entre 0 e 1:\", np.random.rand(5))\n",
    "print(\"Inteiros de 1 a 10:\", np.random.randint(1, 10, 5))\n",
    "\n",
    "# 2️⃣ Distribuição normal (ex: alturas humanas simuladas)\n",
    "alturas = np.random.randn(10) * 10 + 170  # média 170, desvio 10\n",
    "print(\"Alturas simuladas:\", np.round(alturas, 1))\n",
    "\n",
    "# 3️⃣ Escolhendo amostras aleatórias\n",
    "nomes = np.array([\"Ana\", \"Bruno\", \"Carlos\", \"Daniela\", \"Eduardo\"])\n",
    "amostra = np.random.choice(nomes, 3, replace=False)\n",
    "print(\"Amostra de nomes:\", amostra)"
   ]
  },
  {
   "cell_type": "markdown",
   "id": "85a68f3d",
   "metadata": {},
   "source": [
    "**Exemplo do mundo real**\n",
    "\n",
    "Um analista quer simular a demanda diária de um produto com média de 200 vendas e desvio padrão de 20:"
   ]
  },
  {
   "cell_type": "code",
   "execution_count": 2,
   "id": "a0f52149",
   "metadata": {},
   "outputs": [
    {
     "name": "stdout",
     "output_type": "stream",
     "text": [
      "Demanda simulada (semana): [208. 217. 194. 199. 202. 213. 197.]\n"
     ]
    }
   ],
   "source": [
    "demanda = np.random.randn(7) * 20 + 200\n",
    "print(\"Demanda simulada (semana):\", np.round(demanda))"
   ]
  },
  {
   "cell_type": "markdown",
   "id": "866fd18c",
   "metadata": {},
   "source": [
    "➡️ Isso ajuda a prever cenários de estoque e planejar reposições.\n",
    "\n",
    "# Exercícios\n",
    "\n",
    "**Fácil**\n",
    "\n",
    "Gere 10 números aleatórios entre 0 e 1 e mostre-os arredondados para duas casas decimais."
   ]
  },
  {
   "cell_type": "code",
   "execution_count": 50,
   "id": "1f69e12b",
   "metadata": {},
   "outputs": [
    {
     "name": "stdout",
     "output_type": "stream",
     "text": [
      "[0.41 0.98 0.11 0.4  0.97 0.87 0.82 0.26 0.17 0.67]\n"
     ]
    }
   ],
   "source": [
    "arr = np.random.rand(10)\n",
    "print(np.round(arr, 2))"
   ]
  },
  {
   "cell_type": "markdown",
   "id": "d7bc309e",
   "metadata": {},
   "source": [
    "**Intermediário**\n",
    "\n",
    "Simule 8 alturas de pessoas (em cm), com média 170 e desvio padrão 10.\n",
    "Mostre a média e o desvio padrão obtidos da amostra."
   ]
  },
  {
   "cell_type": "code",
   "execution_count": 39,
   "id": "24be425e",
   "metadata": {},
   "outputs": [
    {
     "name": "stdout",
     "output_type": "stream",
     "text": [
      "[175.3 166.3 164.5 180.4 172.3 154.7 173.6 181.4]\n"
     ]
    }
   ],
   "source": [
    "alturas = np.random.randn(8) * 10 + 170\n",
    "print(np.round(alturas, 1))"
   ]
  },
  {
   "cell_type": "markdown",
   "id": "adf19bd2",
   "metadata": {},
   "source": [
    "**Desafio**\n",
    "\n",
    "Crie uma simulação de 30 dias de vendas:\n",
    "\n",
    "1. Gere números inteiros entre 180 e 250.\n",
    "\n",
    "2. Calcule o total, a média e o dia de maior venda.\n",
    "\n",
    "3. Use np.argmax() para descobrir o índice (dia) do maior valor."
   ]
  },
  {
   "cell_type": "code",
   "execution_count": 51,
   "id": "af416988",
   "metadata": {},
   "outputs": [
    {
     "name": "stdout",
     "output_type": "stream",
     "text": [
      "Vendas:\n",
      " [236 245 187 205 230 224 223 184 249 205 247 198 199 191 226 180 193 243\n",
      " 217 216 190 182 212 185 229 189 184 202 189 223]\n",
      "Total: 6283\n",
      "Média:  209.0\n",
      "Dia com maior numero de vendas: 9\n"
     ]
    }
   ],
   "source": [
    "vendas = np.random.randint(180, 250, 30)\n",
    "print(\"Vendas:\\n\", vendas)\n",
    "print(\"Total:\", np.sum(vendas))\n",
    "print(\"Média: \", np.round(np.mean(vendas)))\n",
    "print(\"Dia com maior numero de vendas:\", np.argmax(vendas) + 1)"
   ]
  }
 ],
 "metadata": {
  "kernelspec": {
   "display_name": "Python 3",
   "language": "python",
   "name": "python3"
  },
  "language_info": {
   "codemirror_mode": {
    "name": "ipython",
    "version": 3
   },
   "file_extension": ".py",
   "mimetype": "text/x-python",
   "name": "python",
   "nbconvert_exporter": "python",
   "pygments_lexer": "ipython3",
   "version": "3.13.3"
  }
 },
 "nbformat": 4,
 "nbformat_minor": 5
}
