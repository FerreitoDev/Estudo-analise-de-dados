{
 "cells": [
  {
   "cell_type": "markdown",
   "id": "d8d0e7c2",
   "metadata": {},
   "source": [
    "# Mini Projeto — Simulação de Variações de Temperatura ou Carteira de Investimentos\n",
    "\n",
    "**Objetivo**\n",
    "\n",
    "Consolidar todo o conteúdo aprendido com NumPy: criação de arrays, vetorização, filtragem, estatísticas e simulação.\n",
    "\n",
    "Você pode escolher um dos dois temas:\n",
    "\n",
    "1. 🌡️ Simulação de variação de temperatura\n",
    "\n",
    "2. 💰 Simulação de carteira de investimentos\n",
    "\n",
    "Abaixo estão as duas propostas — escolha uma e desenvolva."
   ]
  },
  {
   "cell_type": "markdown",
   "id": "e21609c7",
   "metadata": {},
   "source": [
    "# 🌡️ Opção 1 — Simulação de Temperatura\n",
    "\n",
    "Simule a temperatura diária de uma cidade durante 30 dias:\n",
    "\n",
    "**Etapas:**\n",
    "\n",
    "1. Gere 30 temperaturas aleatórias com np.random.randn()\n",
    "\n",
    "* Média = 25°C\n",
    "\n",
    "* Desvio padrão = 3°C\n",
    "\n",
    "2. Calcule:\n",
    "\n",
    "* Temperatura média do mês\n",
    "\n",
    "* Maior e menor temperatura\n",
    "\n",
    "* Quantos dias tiveram temperatura acima de 28°C\n",
    "\n",
    "3. Mostre o dia mais quente e mais frio."
   ]
  },
  {
   "cell_type": "markdown",
   "id": "c665c1c7",
   "metadata": {},
   "source": [
    "# 💰 Opção 2 — Simulação de Carteira de Investimentos\n",
    "\n",
    "Simule a variação diária de uma carteira de R$ 10.000 durante 30 dias úteis:\n",
    "\n",
    "**Etapas:**\n",
    "\n",
    "Gere variações percentuais diárias com `np.random.randn()`\n",
    "\n",
    "* Média = 0.001 (0.1% ao dia)\n",
    "\n",
    "* Desvio padrão = 0.01 (1%)\n",
    "\n",
    "2. Calcule o valor diário acumulado da carteira (usando crescimento composto).\n",
    "\n",
    "3. Mostre:\n",
    "\n",
    "* Valor final da carteira.\n",
    "\n",
    "* Maior e menor valor no período.\n",
    "\n",
    "* Dia com o pico de valorização."
   ]
  },
  {
   "cell_type": "code",
   "execution_count": 3,
   "id": "a63cdcd4",
   "metadata": {},
   "outputs": [
    {
     "name": "stdout",
     "output_type": "stream",
     "text": [
      "Temperaturas: \n",
      " [20.3 23.1 25.6 22.7 28.3 27.7 29.8 23.6 25.2 24.5 25.8 20.9 19.9 26.8\n",
      " 23.7 20.8 28.1 26.3 21.7 28.9 24.7 22.8 23.  23.8 24.2 25.9 20.4 21.2\n",
      " 29.9 32.1]\n",
      "A temperatura média do mês foi: 24.7°C\n",
      "A Maior temperatura foi de 32.1°C e a menor foi de 19.9°C.\n",
      "Tiveram 6 dias com temperatura acima de 28°C.\n"
     ]
    }
   ],
   "source": [
    "#Simulação de Temperatura\n",
    "import numpy as np\n",
    "\n",
    "desvio_padrao = 3\n",
    "media = 25\n",
    "\n",
    "temperaturas = np.random.randn(30) * desvio_padrao + media\n",
    "temperatura_media = np.mean(temperaturas)\n",
    "temperatura_max = np.max(temperaturas)\n",
    "temperatura_min = np.min(temperaturas)\n",
    "contagem_maior_28 = np.sum(temperaturas > 28)\n",
    "\n",
    "print(\"Temperaturas: \\n\", np.round(temperaturas, 1))\n",
    "print(f\"A temperatura média do mês foi: {temperatura_media:.1f}°C\")\n",
    "print(f\"A Maior temperatura foi de {temperatura_max:.1f}°C e a menor foi de {temperatura_min:.1f}°C.\")\n",
    "print(f\"Tiveram {contagem_maior_28} dias com temperatura acima de 28°C.\")\n"
   ]
  },
  {
   "cell_type": "code",
   "execution_count": 15,
   "id": "d6c9ae9d",
   "metadata": {},
   "outputs": [
    {
     "name": "stdout",
     "output_type": "stream",
     "text": [
      "Valor final da carteira: R$9372.0\n",
      "O Maior valor da carteira foi R$10064.30 e o menor valor foi R$9304.62.\n",
      "O dia com maior valor foi 2\n"
     ]
    }
   ],
   "source": [
    "# Simulação de Carteira de Investimentos\n",
    "\n",
    "media = 0.001\n",
    "desvio_padrao = 0.01\n",
    "# carteira = np.zeros(31) #Cria um arrai com 30 posições com zeros\n",
    "# carteira[0] = 10000\n",
    "\n",
    "variacao = np.random.randn(30) * desvio_padrao + media\n",
    "carteira = 10000 * np.cumprod(1+ variacao)\n",
    "#carteira = np.insert(carteira, 0, 10000) # insere o valor inicial no início\n",
    "# for i in range(len(variacao)):\n",
    "#     carteira[i+1] = carteira[i] * (1 + variacao[i])\n",
    "    \n",
    "\n",
    "carteira_min = np.min(carteira)\n",
    "carteira_max = np.max(carteira)\n",
    "dia_maior_valor = np.argmax(carteira) + 1\n",
    "\n",
    "print(f\"Valor final da carteira: R${np.round(carteira[-1])}\")\n",
    "print(f\"O Maior valor da carteira foi R${carteira_max:.2f} e o menor valor foi R${carteira_min:.2f}.\")\n",
    "print(\"O dia com maior valor foi\", dia_maior_valor)"
   ]
  }
 ],
 "metadata": {
  "kernelspec": {
   "display_name": "Python 3",
   "language": "python",
   "name": "python3"
  },
  "language_info": {
   "codemirror_mode": {
    "name": "ipython",
    "version": 3
   },
   "file_extension": ".py",
   "mimetype": "text/x-python",
   "name": "python",
   "nbconvert_exporter": "python",
   "pygments_lexer": "ipython3",
   "version": "3.13.3"
  }
 },
 "nbformat": 4,
 "nbformat_minor": 5
}
