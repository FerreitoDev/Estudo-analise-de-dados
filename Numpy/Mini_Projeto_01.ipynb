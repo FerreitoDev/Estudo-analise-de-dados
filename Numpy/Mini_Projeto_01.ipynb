{
 "cells": [
  {
   "cell_type": "markdown",
   "id": "d8d0e7c2",
   "metadata": {},
   "source": [
    "# Mini Projeto — Simulação de Variações de Temperatura ou Carteira de Investimentos\n",
    "\n",
    "**Objetivo**\n",
    "\n",
    "Consolidar todo o conteúdo aprendido com NumPy: criação de arrays, vetorização, filtragem, estatísticas e simulação.\n",
    "\n",
    "Você pode escolher um dos dois temas:\n",
    "\n",
    "1. 🌡️ Simulação de variação de temperatura\n",
    "\n",
    "2. 💰 Simulação de carteira de investimentos\n",
    "\n",
    "Abaixo estão as duas propostas — escolha uma e desenvolva."
   ]
  },
  {
   "cell_type": "markdown",
   "id": "e21609c7",
   "metadata": {},
   "source": [
    "# 🌡️ Opção 1 — Simulação de Temperatura\n",
    "\n",
    "Simule a temperatura diária de uma cidade durante 30 dias:\n",
    "\n",
    "**Etapas:**\n",
    "\n",
    "1. Gere 30 temperaturas aleatórias com np.random.randn()\n",
    "\n",
    "* Média = 25°C\n",
    "\n",
    "* Desvio padrão = 3°C\n",
    "\n",
    "2. Calcule:\n",
    "\n",
    "* Temperatura média do mês\n",
    "\n",
    "* Maior e menor temperatura\n",
    "\n",
    "* Quantos dias tiveram temperatura acima de 28°C\n",
    "\n",
    "3. Mostre o dia mais quente e mais frio."
   ]
  },
  {
   "cell_type": "markdown",
   "id": "c665c1c7",
   "metadata": {},
   "source": [
    "# 💰 Opção 2 — Simulação de Carteira de Investimentos\n",
    "\n",
    "Simule a variação diária de uma carteira de R$ 10.000 durante 30 dias úteis:\n",
    "\n",
    "**Etapas:**\n",
    "\n",
    "Gere variações percentuais diárias com `np.random.randn()`\n",
    "\n",
    "* Média = 0.001 (0.1% ao dia)\n",
    "\n",
    "* Desvio padrão = 0.01 (1%)\n",
    "\n",
    "2. Calcule o valor diário acumulado da carteira (usando crescimento composto).\n",
    "\n",
    "3. Mostre:\n",
    "\n",
    "* Valor final da carteira.\n",
    "\n",
    "* Maior e menor valor no período.\n",
    "\n",
    "* Dia com o pico de valorização."
   ]
  },
  {
   "cell_type": "code",
   "execution_count": null,
   "id": "c22307f2",
   "metadata": {},
   "outputs": [],
   "source": [
    "#Simulação de Temperatura\n",
    "import numpy as np\n",
    "temperaturas = np.random.randn(30) * 25 + 3\n",
    "print(temperaturas)"
   ]
  }
 ],
 "metadata": {
  "kernelspec": {
   "display_name": "Python 3",
   "language": "python",
   "name": "python3"
  },
  "language_info": {
   "name": "python",
   "version": "3.13.3"
  }
 },
 "nbformat": 4,
 "nbformat_minor": 5
}
