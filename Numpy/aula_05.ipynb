{
 "cells": [
  {
   "cell_type": "markdown",
   "id": "8b848f14",
   "metadata": {},
   "source": [
    "# Estatísticas com NumPy (mean, sum, std, etc.)\n",
    "\n",
    "**Explicação teórica simples**\n",
    "\n",
    "O NumPy possui diversas funções estatísticas prontas para analisar dados rapidamente — sem precisar de bibliotecas externas.\n",
    "Essas funções são úteis para entender tendências, variações e médias em conjuntos numéricos.\n",
    "\n",
    "As mais usadas são:\n",
    "\n",
    "* `np.mean()` → média\n",
    "* `np.median()` → mediana\n",
    "* `np.std()` → desvio padrão (variação)\n",
    "* `np.var()` → variância\n",
    "* `np.min()` e `np.max()` → valores mínimo e máximo\n",
    "* `np.sum()` → soma total"
   ]
  },
  {
   "cell_type": "code",
   "execution_count": 1,
   "id": "73b75938",
   "metadata": {},
   "outputs": [
    {
     "name": "stdout",
     "output_type": "stream",
     "text": [
      "Média: 7.8\n",
      "Mediana: 7.9\n",
      "Desvio padrão: 0.7928249671720918\n",
      "Valor mínimo: 6.7\n",
      "Valor máximo: 9.0\n",
      "Soma total: 54.6\n"
     ]
    }
   ],
   "source": [
    "import numpy as np\n",
    "\n",
    "# Conjunto de notas de alunos\n",
    "notas = np.array([7.5, 8.2, 6.8, 9.0, 7.9, 8.5, 6.7])\n",
    "\n",
    "print(\"Média:\", np.mean(notas))\n",
    "print(\"Mediana:\", np.median(notas))\n",
    "print(\"Desvio padrão:\", np.std(notas))\n",
    "print(\"Valor mínimo:\", np.min(notas))\n",
    "print(\"Valor máximo:\", np.max(notas))\n",
    "print(\"Soma total:\", np.sum(notas))\n"
   ]
  },
  {
   "cell_type": "markdown",
   "id": "b6decbe1",
   "metadata": {},
   "source": [
    "**Explicação rápida:**\n",
    "\n",
    "* `mean()` → soma todos os valores e divide pela quantidade.\n",
    "\n",
    "* `median()` → retorna o valor central da distribuição.\n",
    "\n",
    "* `std()` → mostra quanto os dados se afastam da média (quanto mais alto, mais variáveis).\n",
    "\n",
    "* `min()` / `max()` → localizam extremos.\n",
    "\n",
    "* `sum()` → soma geral dos dados."
   ]
  },
  {
   "cell_type": "markdown",
   "id": "6d10b50a",
   "metadata": {},
   "source": [
    "**Exemplo do mundo real**\n",
    "\n",
    "Um analista quer entender o desempenho médio de vendas de uma loja durante a semana:"
   ]
  },
  {
   "cell_type": "code",
   "execution_count": 2,
   "id": "877b92da",
   "metadata": {},
   "outputs": [
    {
     "name": "stdout",
     "output_type": "stream",
     "text": [
      "Média de vendas: 287.85714285714283\n",
      "Maior venda: 320\n",
      "Menor venda: 250\n",
      "Desvio padrão: 23.88321928185784\n"
     ]
    }
   ],
   "source": [
    "vendas = np.array([250, 300, 280, 310, 260, 295, 320])\n",
    "print(\"Média de vendas:\", np.mean(vendas))\n",
    "print(\"Maior venda:\", np.max(vendas))\n",
    "print(\"Menor venda:\", np.min(vendas))\n",
    "print(\"Desvio padrão:\", np.std(vendas))"
   ]
  },
  {
   "cell_type": "markdown",
   "id": "32e85cb6",
   "metadata": {},
   "source": [
    "# Exercícios\n",
    "\n",
    "**Fácil**\n",
    "\n",
    "Crie um array com `[10, 20, 30, 40, 50]` e mostre:\n",
    "\n",
    "* A média, o valor máximo e o valor mínimo."
   ]
  },
  {
   "cell_type": "code",
   "execution_count": 4,
   "id": "65d69e75",
   "metadata": {},
   "outputs": [
    {
     "name": "stdout",
     "output_type": "stream",
     "text": [
      "Média:  30.0\n",
      "Máximo:  50\n",
      "Mínimo:  10\n"
     ]
    }
   ],
   "source": [
    "arr = np.array([10, 20, 30, 40, 50])\n",
    "print(\"Média: \", np.mean(arr))\n",
    "print(\"Máximo: \", np.max(arr))\n",
    "print(\"Mínimo: \", np.min(arr))"
   ]
  },
  {
   "cell_type": "markdown",
   "id": "57b3ac6e",
   "metadata": {},
   "source": [
    "**Intermediário**\n",
    "\n",
    "Crie um array com as temperaturas médias da semana `[22, 25, 20, 27, 26, 23, 24]` e calcule:\n",
    "\n",
    "* Média, mediana e desvio padrão."
   ]
  },
  {
   "cell_type": "code",
   "execution_count": 5,
   "id": "30df5ced",
   "metadata": {},
   "outputs": [
    {
     "name": "stdout",
     "output_type": "stream",
     "text": [
      "Temperatura média da semana:  23.857142857142858\n",
      "Mediana:  24.0\n",
      "Desvio padrão:  2.2314999074019015\n"
     ]
    }
   ],
   "source": [
    "temperaturas = np.array([22, 25, 20, 27, 26, 23, 24])\n",
    "print(\"Temperatura média da semana: \", np.mean(temperaturas))\n",
    "print(\"Mediana: \", np.median(temperaturas))\n",
    "print(\"Desvio padrão: \", np.std(temperaturas))"
   ]
  },
  {
   "cell_type": "markdown",
   "id": "74d16d64",
   "metadata": {},
   "source": [
    "**Desafio**\n",
    "\n",
    "Um conjunto de salários em reais:\n",
    "\n",
    "`salarios = np.array([2500, 3200, 4000, 2700, 5000, 3800, 2900])`\n",
    "\n",
    "1. Calcule a média, mediana e desvio padrão.\n",
    "2. Descubra quanto cada salário se distancia da média (salarios - np.mean(salarios)).\n",
    "3. Mostre os salários acima da média."
   ]
  },
  {
   "cell_type": "code",
   "execution_count": 8,
   "id": "b659050d",
   "metadata": {},
   "outputs": [
    {
     "name": "stdout",
     "output_type": "stream",
     "text": [
      "Media salárial: R$3442.86\n",
      "Mediana salárial: R$3200.00\n",
      "Desvio Padrão: R$815.66\n",
      "\n",
      "Distancia de cada salário em relação a média:\n",
      "[-942.85714286 -242.85714286  557.14285714 -742.85714286 1557.14285714\n",
      "  357.14285714 -542.85714286]\n",
      "\n",
      "Salários acima da média:\n",
      "[4000 5000 3800]\n"
     ]
    }
   ],
   "source": [
    "salarios = np.array([2500, 3200, 4000, 2700, 5000, 3800, 2900])\n",
    "\n",
    "media = np.mean(salarios)\n",
    "mediana = np.median(salarios)\n",
    "variacao = np.std(salarios)\n",
    "distancia_media = salarios - media \n",
    "filtro_acima_media = salarios > media\n",
    "\n",
    "print(f\"Media salárial: R${media:.2f}\")\n",
    "print(f\"Mediana salárial: R${mediana:.2f}\")\n",
    "print(f\"Desvio Padrão: R${variacao:.2f}\")\n",
    "print(f\"\\nDistancia de cada salário em relação a média:\\n{distancia_media}\")\n",
    "print(f\"\\nSalários acima da média:\\n{salarios[filtro_acima_media]}\")"
   ]
  }
 ],
 "metadata": {
  "kernelspec": {
   "display_name": "Python 3",
   "language": "python",
   "name": "python3"
  },
  "language_info": {
   "codemirror_mode": {
    "name": "ipython",
    "version": 3
   },
   "file_extension": ".py",
   "mimetype": "text/x-python",
   "name": "python",
   "nbconvert_exporter": "python",
   "pygments_lexer": "ipython3",
   "version": "3.13.3"
  }
 },
 "nbformat": 4,
 "nbformat_minor": 5
}
