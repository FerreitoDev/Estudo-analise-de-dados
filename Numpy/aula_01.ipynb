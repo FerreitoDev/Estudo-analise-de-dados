{
 "cells": [
  {
   "cell_type": "markdown",
   "id": "b7c7b756",
   "metadata": {},
   "source": [
    "# Introdução ao NumPy e criação de arrays\n",
    "Explicação teórica simples\n",
    "\n",
    "O NumPy é a biblioteca central para análise numérica em Python. Seu principal objeto é o ndarray, que é um array multidimensional eficiente. Ele permite:\n",
    "\n",
    "* Armazenar dados numéricos em grandes volumes.\n",
    "\n",
    "* Fazer operações matemáticas de forma rápida.\n",
    "\n",
    "* Substituir loops do Python por operações vetorizadas.\n",
    "\n",
    "Existem formas comuns de criar arrays:\n",
    "\n",
    "* array: converte listas ou tuplas em arrays.\n",
    "\n",
    "* arange: gera sequências de números com passo definido.\n",
    "\n",
    "* linspace: gera sequências de números igualmente espaçados entre dois valores."
   ]
  },
  {
   "cell_type": "code",
   "execution_count": 1,
   "id": "516fe451",
   "metadata": {},
   "outputs": [
    {
     "name": "stdout",
     "output_type": "stream",
     "text": [
      "[10 20 30]\n",
      "[0 1 2 3 4 5 6 7 8 9]\n",
      "[0.   0.25 0.5  0.75 1.  ]\n"
     ]
    }
   ],
   "source": [
    "import numpy as np\n",
    "\n",
    "#Criando um array a partir de uma lista\n",
    "arr1 = np.array([10, 20, 30])\n",
    "print(arr1)\n",
    "\n",
    "#Criando um array usando arange (0 a 9)\n",
    "arr2 = np.arange(10)\n",
    "print(arr2)\n",
    "\n",
    "#Criando um array com linspace (5 valores entre 0 e 1)\n",
    "arr3 = np.linspace(0, 1, 5)\n",
    "print(arr3)\n",
    "\n"
   ]
  },
  {
   "cell_type": "markdown",
   "id": "efc442f2",
   "metadata": {},
   "source": [
    "**Explicação linha a linha:**\n",
    "\n",
    "1. `np.array([10,20,30])` → cria um array a partir de uma lista Python.\n",
    "2. `np.arange(10)` → cria um array de 0 até 9.\n",
    "3. `np.linspace(0,1,5)` → cria 5 números igualmente espaçados de 0 a 1."
   ]
  },
  {
   "cell_type": "markdown",
   "id": "537fd28b",
   "metadata": {},
   "source": [
    "***Exercícios***\n",
    "\n",
    "Fácil: Crie um array de números de 10 a 50, de 5 em 5."
   ]
  },
  {
   "cell_type": "code",
   "execution_count": 3,
   "id": "25424dd1",
   "metadata": {},
   "outputs": [
    {
     "name": "stdout",
     "output_type": "stream",
     "text": [
      "[10 15 20 25 30 35 40 45 50]\n"
     ]
    }
   ],
   "source": [
    "arr1 = np.arange(10, 55, 5) #Inicio, fim, passo\n",
    "print(arr1)"
   ]
  },
  {
   "cell_type": "markdown",
   "id": "e4051fb6",
   "metadata": {},
   "source": [
    "Intermediário: Crie 10 valores de um sensor de temperatura igualmente espaçados entre 20 e 30°C usando `linspace.`"
   ]
  },
  {
   "cell_type": "code",
   "execution_count": null,
   "id": "a04a5143",
   "metadata": {},
   "outputs": [
    {
     "name": "stdout",
     "output_type": "stream",
     "text": [
      "[20.         21.11111111 22.22222222 23.33333333 24.44444444 25.55555556\n",
      " 26.66666667 27.77777778 28.88888889 30.        ]\n"
     ]
    }
   ],
   "source": [
    "arr2 = np.linspace(20, 30, 10)\n",
    "print(arr2)"
   ]
  },
  {
   "cell_type": "markdown",
   "id": "74e021e0",
   "metadata": {},
   "source": [
    "Desafio: Crie um array de 30 dias e simule a temperatura diária com valores aleatórios entre 18 e 28°C usando arange e operações NumPy."
   ]
  },
  {
   "cell_type": "code",
   "execution_count": null,
   "id": "42f12e27",
   "metadata": {},
   "outputs": [
    {
     "name": "stdout",
     "output_type": "stream",
     "text": [
      "Dias [ 1  2  3  4  5  6  7  8  9 10 11 12 13 14 15 16 17 18 19 20 21 22 23 24\n",
      " 25 26 27 28 29 30]\n",
      "Temperaturas [27 18 26 19 22 19 24 18 24 24 25 24 27 21 26 23 26 21 24 27 24 18 20 25\n",
      " 26 24 20 19 28 20]\n",
      "\n",
      "--- Estatisticas ---\n",
      "Temperatura média: 23.0°c\n",
      "Temperatura máxima: 28°c\n",
      "Temperatura mínima: 18°c\n",
      "Dias com temperatura > 25°c: 8\n"
     ]
    }
   ],
   "source": [
    "dias = np.arange(1, 31)\n",
    "\n",
    "temperaturas = np.random.randint(18, 29, 30)\n",
    "\n",
    "print(\"Dias\", dias)\n",
    "print(\"Temperaturas\", temperaturas)\n",
    "print(\"\\n--- Estatisticas ---\")\n",
    "print(f\"Temperatura média: {np.mean(temperaturas):.1f}°c\") #mean(temperaturas) → calcula a média\n",
    "print(f\"Temperatura máxima: {np.max(temperaturas)}°c\")\n",
    "print(f\"Temperatura mínima: {np.min(temperaturas)}°c\")\n",
    "print(f\"Dias com temperatura > 25°c: {np.sum(temperaturas > 25)}\") #sum(temperaturas) conta quantos dias tiveram temperatura acima de 25°C"
   ]
  }
 ],
 "metadata": {
  "kernelspec": {
   "display_name": "Python 3",
   "language": "python",
   "name": "python3"
  },
  "language_info": {
   "codemirror_mode": {
    "name": "ipython",
    "version": 3
   },
   "file_extension": ".py",
   "mimetype": "text/x-python",
   "name": "python",
   "nbconvert_exporter": "python",
   "pygments_lexer": "ipython3",
   "version": "3.13.3"
  }
 },
 "nbformat": 4,
 "nbformat_minor": 5
}
